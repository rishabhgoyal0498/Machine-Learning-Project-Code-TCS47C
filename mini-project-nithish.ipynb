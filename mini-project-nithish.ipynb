{
 "cells": [
  {
   "cell_type": "code",
   "execution_count": 1,
   "id": "621390bf",
   "metadata": {
    "execution": {
     "iopub.execute_input": "2022-06-10T12:38:32.028255Z",
     "iopub.status.busy": "2022-06-10T12:38:32.027672Z",
     "iopub.status.idle": "2022-06-10T12:38:33.626737Z",
     "shell.execute_reply": "2022-06-10T12:38:33.625830Z"
    },
    "papermill": {
     "duration": 1.616845,
     "end_time": "2022-06-10T12:38:33.629196",
     "exception": false,
     "start_time": "2022-06-10T12:38:32.012351",
     "status": "completed"
    },
    "tags": []
   },
   "outputs": [],
   "source": [
    "import os #paths to file\n",
    "import numpy as np # linear algebra\n",
    "import pandas as pd # data processing\n",
    "import warnings# warning filter\n",
    "\n",
    "\n",
    "#ploting libraries\n",
    "import matplotlib.pyplot as plt \n",
    "import seaborn as sns\n",
    "\n",
    "#feature engineering\n",
    "from sklearn.preprocessing import OneHotEncoder\n",
    "from sklearn.preprocessing import LabelEncoder\n",
    "\n",
    "#train test split\n",
    "from sklearn.model_selection import train_test_split\n",
    "\n",
    "#metrics\n",
    "from sklearn.metrics import mean_absolute_error as MAE\n",
    "from sklearn.metrics import mean_squared_error as MSE\n",
    "from sklearn.metrics import r2_score as R2\n",
    "from sklearn.model_selection  import cross_val_score as CVS\n",
    "\n",
    "\n",
    "#ML models\n",
    "from sklearn.linear_model import LinearRegression\n",
    "from sklearn.ensemble import RandomForestRegressor\n",
    "from sklearn.linear_model import Lasso\n",
    "from xgboost.sklearn import XGBRegressor\n",
    "\n",
    "from sklearn.model_selection import GridSearchCV\n",
    "\n",
    "#default theme and settings\n",
    "sns.set(context='notebook', style='darkgrid', palette='deep', font='sans-serif', font_scale=1, color_codes=False, rc=None)\n",
    "pd.options.display.max_columns\n",
    "\n",
    "#warning hadle\n",
    "warnings.filterwarnings(\"always\")\n",
    "warnings.filterwarnings(\"ignore\")"
   ]
  },
  {
   "cell_type": "code",
   "execution_count": 2,
   "id": "d5a9485d",
   "metadata": {
    "execution": {
     "iopub.execute_input": "2022-06-10T12:38:33.655748Z",
     "iopub.status.busy": "2022-06-10T12:38:33.654712Z",
     "iopub.status.idle": "2022-06-10T12:38:33.669939Z",
     "shell.execute_reply": "2022-06-10T12:38:33.669086Z"
    },
    "papermill": {
     "duration": 0.030604,
     "end_time": "2022-06-10T12:38:33.672065",
     "exception": false,
     "start_time": "2022-06-10T12:38:33.641461",
     "status": "completed"
    },
    "tags": []
   },
   "outputs": [
    {
     "name": "stdout",
     "output_type": "stream",
     "text": [
      "/kaggle/input/big-mart-data/bigmart_data.csv\n",
      "/kaggle/input/big-mart-sales-test-data/BigMartTest.csv\n"
     ]
    }
   ],
   "source": [
    "#list all files under the input directory\n",
    "for dirname, _, filenames in os.walk('/kaggle/input'):\n",
    "    for filename in filenames:\n",
    "        print(os.path.join(dirname, filename))"
   ]
  },
  {
   "cell_type": "code",
   "execution_count": 3,
   "id": "184de0a6",
   "metadata": {
    "execution": {
     "iopub.execute_input": "2022-06-10T12:38:33.697335Z",
     "iopub.status.busy": "2022-06-10T12:38:33.696727Z",
     "iopub.status.idle": "2022-06-10T12:38:33.700166Z",
     "shell.execute_reply": "2022-06-10T12:38:33.699565Z"
    },
    "papermill": {
     "duration": 0.01816,
     "end_time": "2022-06-10T12:38:33.701933",
     "exception": false,
     "start_time": "2022-06-10T12:38:33.683773",
     "status": "completed"
    },
    "tags": []
   },
   "outputs": [],
   "source": [
    "#path for the training set\n",
    "tr_path = \"../input/big-mart-data/bigmart_data.csv\"\n",
    "#path for the testing set\n",
    "te_path = \"../input/big-mart-sales-test-data/BigMartTest.csv\""
   ]
  },
  {
   "cell_type": "code",
   "execution_count": 4,
   "id": "248b1bca",
   "metadata": {
    "execution": {
     "iopub.execute_input": "2022-06-10T12:38:33.727353Z",
     "iopub.status.busy": "2022-06-10T12:38:33.726766Z",
     "iopub.status.idle": "2022-06-10T12:38:33.790223Z",
     "shell.execute_reply": "2022-06-10T12:38:33.789571Z"
    },
    "papermill": {
     "duration": 0.078047,
     "end_time": "2022-06-10T12:38:33.791858",
     "exception": false,
     "start_time": "2022-06-10T12:38:33.713811",
     "status": "completed"
    },
    "tags": []
   },
   "outputs": [
    {
     "data": {
      "text/html": [
       "<div>\n",
       "<style scoped>\n",
       "    .dataframe tbody tr th:only-of-type {\n",
       "        vertical-align: middle;\n",
       "    }\n",
       "\n",
       "    .dataframe tbody tr th {\n",
       "        vertical-align: top;\n",
       "    }\n",
       "\n",
       "    .dataframe thead th {\n",
       "        text-align: right;\n",
       "    }\n",
       "</style>\n",
       "<table border=\"1\" class=\"dataframe\">\n",
       "  <thead>\n",
       "    <tr style=\"text-align: right;\">\n",
       "      <th></th>\n",
       "      <th>Item_Identifier</th>\n",
       "      <th>Item_Weight</th>\n",
       "      <th>Item_Fat_Content</th>\n",
       "      <th>Item_Visibility</th>\n",
       "      <th>Item_Type</th>\n",
       "      <th>Item_MRP</th>\n",
       "      <th>Outlet_Identifier</th>\n",
       "      <th>Outlet_Establishment_Year</th>\n",
       "      <th>Outlet_Size</th>\n",
       "      <th>Outlet_Location_Type</th>\n",
       "      <th>Outlet_Type</th>\n",
       "      <th>Item_Outlet_Sales</th>\n",
       "    </tr>\n",
       "  </thead>\n",
       "  <tbody>\n",
       "    <tr>\n",
       "      <th>0</th>\n",
       "      <td>FDA15</td>\n",
       "      <td>9.30</td>\n",
       "      <td>Low Fat</td>\n",
       "      <td>0.016047</td>\n",
       "      <td>Dairy</td>\n",
       "      <td>249.8092</td>\n",
       "      <td>OUT049</td>\n",
       "      <td>1999</td>\n",
       "      <td>Medium</td>\n",
       "      <td>Tier 1</td>\n",
       "      <td>Supermarket Type1</td>\n",
       "      <td>3735.1380</td>\n",
       "    </tr>\n",
       "    <tr>\n",
       "      <th>1</th>\n",
       "      <td>DRC01</td>\n",
       "      <td>5.92</td>\n",
       "      <td>Regular</td>\n",
       "      <td>0.019278</td>\n",
       "      <td>Soft Drinks</td>\n",
       "      <td>48.2692</td>\n",
       "      <td>OUT018</td>\n",
       "      <td>2009</td>\n",
       "      <td>Medium</td>\n",
       "      <td>Tier 3</td>\n",
       "      <td>Supermarket Type2</td>\n",
       "      <td>443.4228</td>\n",
       "    </tr>\n",
       "    <tr>\n",
       "      <th>2</th>\n",
       "      <td>FDN15</td>\n",
       "      <td>17.50</td>\n",
       "      <td>Low Fat</td>\n",
       "      <td>0.016760</td>\n",
       "      <td>Meat</td>\n",
       "      <td>141.6180</td>\n",
       "      <td>OUT049</td>\n",
       "      <td>1999</td>\n",
       "      <td>Medium</td>\n",
       "      <td>Tier 1</td>\n",
       "      <td>Supermarket Type1</td>\n",
       "      <td>2097.2700</td>\n",
       "    </tr>\n",
       "    <tr>\n",
       "      <th>3</th>\n",
       "      <td>FDX07</td>\n",
       "      <td>19.20</td>\n",
       "      <td>Regular</td>\n",
       "      <td>0.000000</td>\n",
       "      <td>Fruits and Vegetables</td>\n",
       "      <td>182.0950</td>\n",
       "      <td>OUT010</td>\n",
       "      <td>1998</td>\n",
       "      <td>NaN</td>\n",
       "      <td>Tier 3</td>\n",
       "      <td>Grocery Store</td>\n",
       "      <td>732.3800</td>\n",
       "    </tr>\n",
       "    <tr>\n",
       "      <th>4</th>\n",
       "      <td>NCD19</td>\n",
       "      <td>8.93</td>\n",
       "      <td>Low Fat</td>\n",
       "      <td>0.000000</td>\n",
       "      <td>Household</td>\n",
       "      <td>53.8614</td>\n",
       "      <td>OUT013</td>\n",
       "      <td>1987</td>\n",
       "      <td>High</td>\n",
       "      <td>Tier 3</td>\n",
       "      <td>Supermarket Type1</td>\n",
       "      <td>994.7052</td>\n",
       "    </tr>\n",
       "  </tbody>\n",
       "</table>\n",
       "</div>"
      ],
      "text/plain": [
       "  Item_Identifier  Item_Weight Item_Fat_Content  Item_Visibility  \\\n",
       "0           FDA15         9.30          Low Fat         0.016047   \n",
       "1           DRC01         5.92          Regular         0.019278   \n",
       "2           FDN15        17.50          Low Fat         0.016760   \n",
       "3           FDX07        19.20          Regular         0.000000   \n",
       "4           NCD19         8.93          Low Fat         0.000000   \n",
       "\n",
       "               Item_Type  Item_MRP Outlet_Identifier  \\\n",
       "0                  Dairy  249.8092            OUT049   \n",
       "1            Soft Drinks   48.2692            OUT018   \n",
       "2                   Meat  141.6180            OUT049   \n",
       "3  Fruits and Vegetables  182.0950            OUT010   \n",
       "4              Household   53.8614            OUT013   \n",
       "\n",
       "   Outlet_Establishment_Year Outlet_Size Outlet_Location_Type  \\\n",
       "0                       1999      Medium               Tier 1   \n",
       "1                       2009      Medium               Tier 3   \n",
       "2                       1999      Medium               Tier 1   \n",
       "3                       1998         NaN               Tier 3   \n",
       "4                       1987        High               Tier 3   \n",
       "\n",
       "         Outlet_Type  Item_Outlet_Sales  \n",
       "0  Supermarket Type1          3735.1380  \n",
       "1  Supermarket Type2           443.4228  \n",
       "2  Supermarket Type1          2097.2700  \n",
       "3      Grocery Store           732.3800  \n",
       "4  Supermarket Type1           994.7052  "
      ]
     },
     "execution_count": 4,
     "metadata": {},
     "output_type": "execute_result"
    }
   ],
   "source": [
    "# read in csv file as a DataFrame\n",
    "tr_df = pd.read_csv(tr_path)\n",
    "# explore the first 5 rows\n",
    "tr_df.head()"
   ]
  },
  {
   "cell_type": "code",
   "execution_count": 5,
   "id": "2a6f3171",
   "metadata": {
    "execution": {
     "iopub.execute_input": "2022-06-10T12:38:33.818112Z",
     "iopub.status.busy": "2022-06-10T12:38:33.817462Z",
     "iopub.status.idle": "2022-06-10T12:38:33.858727Z",
     "shell.execute_reply": "2022-06-10T12:38:33.858070Z"
    },
    "papermill": {
     "duration": 0.056205,
     "end_time": "2022-06-10T12:38:33.860546",
     "exception": false,
     "start_time": "2022-06-10T12:38:33.804341",
     "status": "completed"
    },
    "tags": []
   },
   "outputs": [
    {
     "data": {
      "text/html": [
       "<div>\n",
       "<style scoped>\n",
       "    .dataframe tbody tr th:only-of-type {\n",
       "        vertical-align: middle;\n",
       "    }\n",
       "\n",
       "    .dataframe tbody tr th {\n",
       "        vertical-align: top;\n",
       "    }\n",
       "\n",
       "    .dataframe thead th {\n",
       "        text-align: right;\n",
       "    }\n",
       "</style>\n",
       "<table border=\"1\" class=\"dataframe\">\n",
       "  <thead>\n",
       "    <tr style=\"text-align: right;\">\n",
       "      <th></th>\n",
       "      <th>Item_Identifier</th>\n",
       "      <th>Item_Weight</th>\n",
       "      <th>Item_Fat_Content</th>\n",
       "      <th>Item_Visibility</th>\n",
       "      <th>Item_Type</th>\n",
       "      <th>Item_MRP</th>\n",
       "      <th>Outlet_Identifier</th>\n",
       "      <th>Outlet_Establishment_Year</th>\n",
       "      <th>Outlet_Size</th>\n",
       "      <th>Outlet_Location_Type</th>\n",
       "      <th>Outlet_Type</th>\n",
       "    </tr>\n",
       "  </thead>\n",
       "  <tbody>\n",
       "    <tr>\n",
       "      <th>0</th>\n",
       "      <td>FDW58</td>\n",
       "      <td>20.750</td>\n",
       "      <td>Low Fat</td>\n",
       "      <td>0.007565</td>\n",
       "      <td>Snack Foods</td>\n",
       "      <td>107.8622</td>\n",
       "      <td>OUT049</td>\n",
       "      <td>1999</td>\n",
       "      <td>Medium</td>\n",
       "      <td>Tier 1</td>\n",
       "      <td>Supermarket Type1</td>\n",
       "    </tr>\n",
       "    <tr>\n",
       "      <th>1</th>\n",
       "      <td>FDW14</td>\n",
       "      <td>8.300</td>\n",
       "      <td>reg</td>\n",
       "      <td>0.038428</td>\n",
       "      <td>Dairy</td>\n",
       "      <td>87.3198</td>\n",
       "      <td>OUT017</td>\n",
       "      <td>2007</td>\n",
       "      <td>NaN</td>\n",
       "      <td>Tier 2</td>\n",
       "      <td>Supermarket Type1</td>\n",
       "    </tr>\n",
       "    <tr>\n",
       "      <th>2</th>\n",
       "      <td>NCN55</td>\n",
       "      <td>14.600</td>\n",
       "      <td>Low Fat</td>\n",
       "      <td>0.099575</td>\n",
       "      <td>Others</td>\n",
       "      <td>241.7538</td>\n",
       "      <td>OUT010</td>\n",
       "      <td>1998</td>\n",
       "      <td>NaN</td>\n",
       "      <td>Tier 3</td>\n",
       "      <td>Grocery Store</td>\n",
       "    </tr>\n",
       "    <tr>\n",
       "      <th>3</th>\n",
       "      <td>FDQ58</td>\n",
       "      <td>7.315</td>\n",
       "      <td>Low Fat</td>\n",
       "      <td>0.015388</td>\n",
       "      <td>Snack Foods</td>\n",
       "      <td>155.0340</td>\n",
       "      <td>OUT017</td>\n",
       "      <td>2007</td>\n",
       "      <td>NaN</td>\n",
       "      <td>Tier 2</td>\n",
       "      <td>Supermarket Type1</td>\n",
       "    </tr>\n",
       "    <tr>\n",
       "      <th>4</th>\n",
       "      <td>FDY38</td>\n",
       "      <td>NaN</td>\n",
       "      <td>Regular</td>\n",
       "      <td>0.118599</td>\n",
       "      <td>Dairy</td>\n",
       "      <td>234.2300</td>\n",
       "      <td>OUT027</td>\n",
       "      <td>1985</td>\n",
       "      <td>Medium</td>\n",
       "      <td>Tier 3</td>\n",
       "      <td>Supermarket Type3</td>\n",
       "    </tr>\n",
       "  </tbody>\n",
       "</table>\n",
       "</div>"
      ],
      "text/plain": [
       "  Item_Identifier  Item_Weight Item_Fat_Content  Item_Visibility    Item_Type  \\\n",
       "0           FDW58       20.750          Low Fat         0.007565  Snack Foods   \n",
       "1           FDW14        8.300              reg         0.038428        Dairy   \n",
       "2           NCN55       14.600          Low Fat         0.099575       Others   \n",
       "3           FDQ58        7.315          Low Fat         0.015388  Snack Foods   \n",
       "4           FDY38          NaN          Regular         0.118599        Dairy   \n",
       "\n",
       "   Item_MRP Outlet_Identifier  Outlet_Establishment_Year Outlet_Size  \\\n",
       "0  107.8622            OUT049                       1999      Medium   \n",
       "1   87.3198            OUT017                       2007         NaN   \n",
       "2  241.7538            OUT010                       1998         NaN   \n",
       "3  155.0340            OUT017                       2007         NaN   \n",
       "4  234.2300            OUT027                       1985      Medium   \n",
       "\n",
       "  Outlet_Location_Type        Outlet_Type  \n",
       "0               Tier 1  Supermarket Type1  \n",
       "1               Tier 2  Supermarket Type1  \n",
       "2               Tier 3      Grocery Store  \n",
       "3               Tier 2  Supermarket Type1  \n",
       "4               Tier 3  Supermarket Type3  "
      ]
     },
     "execution_count": 5,
     "metadata": {},
     "output_type": "execute_result"
    }
   ],
   "source": [
    "# read in csv file as a DataFrame\n",
    "te_df = pd.read_csv(te_path)\n",
    "# explore the first 5 rows\n",
    "te_df.head()"
   ]
  },
  {
   "cell_type": "code",
   "execution_count": 6,
   "id": "bc428b9b",
   "metadata": {
    "execution": {
     "iopub.execute_input": "2022-06-10T12:38:33.886740Z",
     "iopub.status.busy": "2022-06-10T12:38:33.886104Z",
     "iopub.status.idle": "2022-06-10T12:38:33.890550Z",
     "shell.execute_reply": "2022-06-10T12:38:33.889869Z"
    },
    "papermill": {
     "duration": 0.019249,
     "end_time": "2022-06-10T12:38:33.892237",
     "exception": false,
     "start_time": "2022-06-10T12:38:33.872988",
     "status": "completed"
    },
    "tags": []
   },
   "outputs": [
    {
     "name": "stdout",
     "output_type": "stream",
     "text": [
      "training set (row, col): (8523, 12)\n",
      "\n",
      "testing set (row, col): (5681, 11)\n"
     ]
    }
   ],
   "source": [
    "print(f\"training set (row, col): {tr_df.shape}\\n\\ntesting set (row, col): {te_df.shape}\")"
   ]
  },
  {
   "cell_type": "code",
   "execution_count": 7,
   "id": "e03b2f3d",
   "metadata": {
    "execution": {
     "iopub.execute_input": "2022-06-10T12:38:33.918483Z",
     "iopub.status.busy": "2022-06-10T12:38:33.917853Z",
     "iopub.status.idle": "2022-06-10T12:38:33.944719Z",
     "shell.execute_reply": "2022-06-10T12:38:33.944020Z"
    },
    "papermill": {
     "duration": 0.043516,
     "end_time": "2022-06-10T12:38:33.947916",
     "exception": false,
     "start_time": "2022-06-10T12:38:33.904400",
     "status": "completed"
    },
    "tags": []
   },
   "outputs": [
    {
     "name": "stdout",
     "output_type": "stream",
     "text": [
      "<class 'pandas.core.frame.DataFrame'>\n",
      "RangeIndex: 8523 entries, 0 to 8522\n",
      "Data columns (total 12 columns):\n",
      " #   Column                     Non-Null Count  Dtype  \n",
      "---  ------                     --------------  -----  \n",
      " 0   Item_Identifier            8523 non-null   object \n",
      " 1   Item_Weight                7060 non-null   float64\n",
      " 2   Item_Fat_Content           8523 non-null   object \n",
      " 3   Item_Visibility            8523 non-null   float64\n",
      " 4   Item_Type                  8523 non-null   object \n",
      " 5   Item_MRP                   8523 non-null   float64\n",
      " 6   Outlet_Identifier          8523 non-null   object \n",
      " 7   Outlet_Establishment_Year  8523 non-null   int64  \n",
      " 8   Outlet_Size                6113 non-null   object \n",
      " 9   Outlet_Location_Type       8523 non-null   object \n",
      " 10  Outlet_Type                8523 non-null   object \n",
      " 11  Item_Outlet_Sales          8523 non-null   float64\n",
      "dtypes: float64(4), int64(1), object(7)\n",
      "memory usage: 799.2+ KB\n"
     ]
    }
   ],
   "source": [
    "#column information\n",
    "tr_df.info(verbose=True, null_counts=True)"
   ]
  },
  {
   "cell_type": "code",
   "execution_count": 8,
   "id": "75b5dc70",
   "metadata": {
    "execution": {
     "iopub.execute_input": "2022-06-10T12:38:33.974837Z",
     "iopub.status.busy": "2022-06-10T12:38:33.974378Z",
     "iopub.status.idle": "2022-06-10T12:38:34.004419Z",
     "shell.execute_reply": "2022-06-10T12:38:34.003443Z"
    },
    "papermill": {
     "duration": 0.045759,
     "end_time": "2022-06-10T12:38:34.006368",
     "exception": false,
     "start_time": "2022-06-10T12:38:33.960609",
     "status": "completed"
    },
    "tags": []
   },
   "outputs": [
    {
     "data": {
      "text/html": [
       "<div>\n",
       "<style scoped>\n",
       "    .dataframe tbody tr th:only-of-type {\n",
       "        vertical-align: middle;\n",
       "    }\n",
       "\n",
       "    .dataframe tbody tr th {\n",
       "        vertical-align: top;\n",
       "    }\n",
       "\n",
       "    .dataframe thead th {\n",
       "        text-align: right;\n",
       "    }\n",
       "</style>\n",
       "<table border=\"1\" class=\"dataframe\">\n",
       "  <thead>\n",
       "    <tr style=\"text-align: right;\">\n",
       "      <th></th>\n",
       "      <th>Item_Weight</th>\n",
       "      <th>Item_Visibility</th>\n",
       "      <th>Item_MRP</th>\n",
       "      <th>Outlet_Establishment_Year</th>\n",
       "      <th>Item_Outlet_Sales</th>\n",
       "    </tr>\n",
       "  </thead>\n",
       "  <tbody>\n",
       "    <tr>\n",
       "      <th>count</th>\n",
       "      <td>7060.000000</td>\n",
       "      <td>8523.000000</td>\n",
       "      <td>8523.000000</td>\n",
       "      <td>8523.000000</td>\n",
       "      <td>8523.000000</td>\n",
       "    </tr>\n",
       "    <tr>\n",
       "      <th>mean</th>\n",
       "      <td>12.857645</td>\n",
       "      <td>0.066132</td>\n",
       "      <td>140.992782</td>\n",
       "      <td>1997.831867</td>\n",
       "      <td>2181.288914</td>\n",
       "    </tr>\n",
       "    <tr>\n",
       "      <th>std</th>\n",
       "      <td>4.643456</td>\n",
       "      <td>0.051598</td>\n",
       "      <td>62.275067</td>\n",
       "      <td>8.371760</td>\n",
       "      <td>1706.499616</td>\n",
       "    </tr>\n",
       "    <tr>\n",
       "      <th>min</th>\n",
       "      <td>4.555000</td>\n",
       "      <td>0.000000</td>\n",
       "      <td>31.290000</td>\n",
       "      <td>1985.000000</td>\n",
       "      <td>33.290000</td>\n",
       "    </tr>\n",
       "    <tr>\n",
       "      <th>25%</th>\n",
       "      <td>8.773750</td>\n",
       "      <td>0.026989</td>\n",
       "      <td>93.826500</td>\n",
       "      <td>1987.000000</td>\n",
       "      <td>834.247400</td>\n",
       "    </tr>\n",
       "    <tr>\n",
       "      <th>50%</th>\n",
       "      <td>12.600000</td>\n",
       "      <td>0.053931</td>\n",
       "      <td>143.012800</td>\n",
       "      <td>1999.000000</td>\n",
       "      <td>1794.331000</td>\n",
       "    </tr>\n",
       "    <tr>\n",
       "      <th>75%</th>\n",
       "      <td>16.850000</td>\n",
       "      <td>0.094585</td>\n",
       "      <td>185.643700</td>\n",
       "      <td>2004.000000</td>\n",
       "      <td>3101.296400</td>\n",
       "    </tr>\n",
       "    <tr>\n",
       "      <th>max</th>\n",
       "      <td>21.350000</td>\n",
       "      <td>0.328391</td>\n",
       "      <td>266.888400</td>\n",
       "      <td>2009.000000</td>\n",
       "      <td>13086.964800</td>\n",
       "    </tr>\n",
       "  </tbody>\n",
       "</table>\n",
       "</div>"
      ],
      "text/plain": [
       "       Item_Weight  Item_Visibility     Item_MRP  Outlet_Establishment_Year  \\\n",
       "count  7060.000000      8523.000000  8523.000000                8523.000000   \n",
       "mean     12.857645         0.066132   140.992782                1997.831867   \n",
       "std       4.643456         0.051598    62.275067                   8.371760   \n",
       "min       4.555000         0.000000    31.290000                1985.000000   \n",
       "25%       8.773750         0.026989    93.826500                1987.000000   \n",
       "50%      12.600000         0.053931   143.012800                1999.000000   \n",
       "75%      16.850000         0.094585   185.643700                2004.000000   \n",
       "max      21.350000         0.328391   266.888400                2009.000000   \n",
       "\n",
       "       Item_Outlet_Sales  \n",
       "count        8523.000000  \n",
       "mean         2181.288914  \n",
       "std          1706.499616  \n",
       "min            33.290000  \n",
       "25%           834.247400  \n",
       "50%          1794.331000  \n",
       "75%          3101.296400  \n",
       "max         13086.964800  "
      ]
     },
     "execution_count": 8,
     "metadata": {},
     "output_type": "execute_result"
    }
   ],
   "source": [
    "#summary statistics test\n",
    "tr_df.describe()"
   ]
  },
  {
   "cell_type": "code",
   "execution_count": 9,
   "id": "3e57b389",
   "metadata": {
    "execution": {
     "iopub.execute_input": "2022-06-10T12:38:34.033760Z",
     "iopub.status.busy": "2022-06-10T12:38:34.032812Z",
     "iopub.status.idle": "2022-06-10T12:38:34.054567Z",
     "shell.execute_reply": "2022-06-10T12:38:34.053839Z"
    },
    "papermill": {
     "duration": 0.037746,
     "end_time": "2022-06-10T12:38:34.056655",
     "exception": false,
     "start_time": "2022-06-10T12:38:34.018909",
     "status": "completed"
    },
    "tags": []
   },
   "outputs": [
    {
     "data": {
      "text/html": [
       "<div>\n",
       "<style scoped>\n",
       "    .dataframe tbody tr th:only-of-type {\n",
       "        vertical-align: middle;\n",
       "    }\n",
       "\n",
       "    .dataframe tbody tr th {\n",
       "        vertical-align: top;\n",
       "    }\n",
       "\n",
       "    .dataframe thead th {\n",
       "        text-align: right;\n",
       "    }\n",
       "</style>\n",
       "<table border=\"1\" class=\"dataframe\">\n",
       "  <thead>\n",
       "    <tr style=\"text-align: right;\">\n",
       "      <th></th>\n",
       "      <th>Item_Weight</th>\n",
       "      <th>Item_Visibility</th>\n",
       "      <th>Item_MRP</th>\n",
       "      <th>Outlet_Establishment_Year</th>\n",
       "    </tr>\n",
       "  </thead>\n",
       "  <tbody>\n",
       "    <tr>\n",
       "      <th>count</th>\n",
       "      <td>4705.000000</td>\n",
       "      <td>5681.000000</td>\n",
       "      <td>5681.000000</td>\n",
       "      <td>5681.000000</td>\n",
       "    </tr>\n",
       "    <tr>\n",
       "      <th>mean</th>\n",
       "      <td>12.695633</td>\n",
       "      <td>0.065684</td>\n",
       "      <td>141.023273</td>\n",
       "      <td>1997.828903</td>\n",
       "    </tr>\n",
       "    <tr>\n",
       "      <th>std</th>\n",
       "      <td>4.664849</td>\n",
       "      <td>0.051252</td>\n",
       "      <td>61.809091</td>\n",
       "      <td>8.372256</td>\n",
       "    </tr>\n",
       "    <tr>\n",
       "      <th>min</th>\n",
       "      <td>4.555000</td>\n",
       "      <td>0.000000</td>\n",
       "      <td>31.990000</td>\n",
       "      <td>1985.000000</td>\n",
       "    </tr>\n",
       "    <tr>\n",
       "      <th>25%</th>\n",
       "      <td>8.645000</td>\n",
       "      <td>0.027047</td>\n",
       "      <td>94.412000</td>\n",
       "      <td>1987.000000</td>\n",
       "    </tr>\n",
       "    <tr>\n",
       "      <th>50%</th>\n",
       "      <td>12.500000</td>\n",
       "      <td>0.054154</td>\n",
       "      <td>141.415400</td>\n",
       "      <td>1999.000000</td>\n",
       "    </tr>\n",
       "    <tr>\n",
       "      <th>75%</th>\n",
       "      <td>16.700000</td>\n",
       "      <td>0.093463</td>\n",
       "      <td>186.026600</td>\n",
       "      <td>2004.000000</td>\n",
       "    </tr>\n",
       "    <tr>\n",
       "      <th>max</th>\n",
       "      <td>21.350000</td>\n",
       "      <td>0.323637</td>\n",
       "      <td>266.588400</td>\n",
       "      <td>2009.000000</td>\n",
       "    </tr>\n",
       "  </tbody>\n",
       "</table>\n",
       "</div>"
      ],
      "text/plain": [
       "       Item_Weight  Item_Visibility     Item_MRP  Outlet_Establishment_Year\n",
       "count  4705.000000      5681.000000  5681.000000                5681.000000\n",
       "mean     12.695633         0.065684   141.023273                1997.828903\n",
       "std       4.664849         0.051252    61.809091                   8.372256\n",
       "min       4.555000         0.000000    31.990000                1985.000000\n",
       "25%       8.645000         0.027047    94.412000                1987.000000\n",
       "50%      12.500000         0.054154   141.415400                1999.000000\n",
       "75%      16.700000         0.093463   186.026600                2004.000000\n",
       "max      21.350000         0.323637   266.588400                2009.000000"
      ]
     },
     "execution_count": 9,
     "metadata": {},
     "output_type": "execute_result"
    }
   ],
   "source": [
    "#summary statistics train\n",
    "te_df.describe()"
   ]
  },
  {
   "cell_type": "markdown",
   "id": "c2ecd007",
   "metadata": {
    "papermill": {
     "duration": 0.013578,
     "end_time": "2022-06-10T12:38:34.083916",
     "exception": false,
     "start_time": "2022-06-10T12:38:34.070338",
     "status": "completed"
    },
    "tags": []
   },
   "source": [
    "# Missing values"
   ]
  },
  {
   "cell_type": "code",
   "execution_count": 10,
   "id": "4806ec3d",
   "metadata": {
    "execution": {
     "iopub.execute_input": "2022-06-10T12:38:34.112108Z",
     "iopub.status.busy": "2022-06-10T12:38:34.111243Z",
     "iopub.status.idle": "2022-06-10T12:38:34.124919Z",
     "shell.execute_reply": "2022-06-10T12:38:34.123953Z"
    },
    "papermill": {
     "duration": 0.030818,
     "end_time": "2022-06-10T12:38:34.127591",
     "exception": false,
     "start_time": "2022-06-10T12:38:34.096773",
     "status": "completed"
    },
    "tags": []
   },
   "outputs": [
    {
     "name": "stdout",
     "output_type": "stream",
     "text": [
      "Train:\n",
      "\n",
      "Item_Identifier                 0\n",
      "Item_Weight                  1463\n",
      "Item_Fat_Content                0\n",
      "Item_Visibility                 0\n",
      "Item_Type                       0\n",
      "Item_MRP                        0\n",
      "Outlet_Identifier               0\n",
      "Outlet_Establishment_Year       0\n",
      "Outlet_Size                  2410\n",
      "Outlet_Location_Type            0\n",
      "Outlet_Type                     0\n",
      "Item_Outlet_Sales               0\n",
      "dtype: int64 \n",
      "\n",
      "\n",
      "Test:\n",
      "\n",
      "Item_Identifier                 0\n",
      "Item_Weight                   976\n",
      "Item_Fat_Content                0\n",
      "Item_Visibility                 0\n",
      "Item_Type                       0\n",
      "Item_MRP                        0\n",
      "Outlet_Identifier               0\n",
      "Outlet_Establishment_Year       0\n",
      "Outlet_Size                  1606\n",
      "Outlet_Location_Type            0\n",
      "Outlet_Type                     0\n",
      "dtype: int64 \n",
      "\n",
      "\n"
     ]
    }
   ],
   "source": [
    "#missing values in decsending order\n",
    "print(\"Train:\\n\")\n",
    "print(tr_df.isnull().sum(),\"\\n\\n\")\n",
    "print(\"Test:\\n\")\n",
    "print(te_df.isnull().sum(),\"\\n\\n\")"
   ]
  },
  {
   "cell_type": "markdown",
   "id": "f02879ba",
   "metadata": {
    "papermill": {
     "duration": 0.012777,
     "end_time": "2022-06-10T12:38:34.153776",
     "exception": false,
     "start_time": "2022-06-10T12:38:34.140999",
     "status": "completed"
    },
    "tags": []
   },
   "source": [
    "# Imputing data for Outlet_Size and Item_Weight :\n",
    "**Outlet_Size is a categorical column, therefore we will impute missing values with Medium the mode value**"
   ]
  },
  {
   "cell_type": "code",
   "execution_count": 11,
   "id": "93add7af",
   "metadata": {
    "execution": {
     "iopub.execute_input": "2022-06-10T12:38:34.180762Z",
     "iopub.status.busy": "2022-06-10T12:38:34.180354Z",
     "iopub.status.idle": "2022-06-10T12:38:34.186967Z",
     "shell.execute_reply": "2022-06-10T12:38:34.185825Z"
    },
    "papermill": {
     "duration": 0.022195,
     "end_time": "2022-06-10T12:38:34.188766",
     "exception": false,
     "start_time": "2022-06-10T12:38:34.166571",
     "status": "completed"
    },
    "tags": []
   },
   "outputs": [
    {
     "name": "stdout",
     "output_type": "stream",
     "text": [
      "test mode, train mode\n",
      " ['Medium', 'Medium']\n"
     ]
    }
   ],
   "source": [
    "print(\"test mode, train mode\\n\",[tr_df['Outlet_Size'].mode().values[0], te_df['Outlet_Size'].mode().values[0]])"
   ]
  },
  {
   "cell_type": "code",
   "execution_count": 12,
   "id": "e2a0ef25",
   "metadata": {
    "execution": {
     "iopub.execute_input": "2022-06-10T12:38:34.217343Z",
     "iopub.status.busy": "2022-06-10T12:38:34.216540Z",
     "iopub.status.idle": "2022-06-10T12:38:34.229892Z",
     "shell.execute_reply": "2022-06-10T12:38:34.228801Z"
    },
    "papermill": {
     "duration": 0.030136,
     "end_time": "2022-06-10T12:38:34.231952",
     "exception": false,
     "start_time": "2022-06-10T12:38:34.201816",
     "status": "completed"
    },
    "tags": []
   },
   "outputs": [
    {
     "data": {
      "text/plain": [
       "(0, 0)"
      ]
     },
     "execution_count": 12,
     "metadata": {},
     "output_type": "execute_result"
    }
   ],
   "source": [
    "#train\n",
    "tr_df['Outlet_Size'] = tr_df['Outlet_Size'].fillna(\n",
    "tr_df['Outlet_Size'].dropna().mode().values[0])\n",
    "\n",
    "#test\n",
    "te_df['Outlet_Size'] = te_df['Outlet_Size'].fillna(\n",
    "te_df['Outlet_Size'].dropna().mode().values[0])\n",
    "\n",
    "#checking if we filled missing values\n",
    "tr_df['Outlet_Size'].isnull().sum(),te_df['Outlet_Size'].isnull().sum()"
   ]
  },
  {
   "cell_type": "markdown",
   "id": "c8d43b27",
   "metadata": {
    "papermill": {
     "duration": 0.012934,
     "end_time": "2022-06-10T12:38:34.257800",
     "exception": false,
     "start_time": "2022-06-10T12:38:34.244866",
     "status": "completed"
    },
    "tags": []
   },
   "source": [
    "Item_weight is a numerical column therefore we need to visualize its distribution for a clearer display. We will use the boxplot in seaborn:"
   ]
  },
  {
   "cell_type": "code",
   "execution_count": 13,
   "id": "42b6db21",
   "metadata": {
    "execution": {
     "iopub.execute_input": "2022-06-10T12:38:34.285570Z",
     "iopub.status.busy": "2022-06-10T12:38:34.285152Z",
     "iopub.status.idle": "2022-06-10T12:38:34.429135Z",
     "shell.execute_reply": "2022-06-10T12:38:34.428274Z"
    },
    "papermill": {
     "duration": 0.161002,
     "end_time": "2022-06-10T12:38:34.431972",
     "exception": false,
     "start_time": "2022-06-10T12:38:34.270970",
     "status": "completed"
    },
    "tags": []
   },
   "outputs": [
    {
     "data": {
      "text/plain": [
       "Text(0.5, 1.0, 'Item_Weight Boxplot')"
      ]
     },
     "execution_count": 13,
     "metadata": {},
     "output_type": "execute_result"
    },
    {
     "data": {
      "image/png": "[encoded data removed]",
      "text/plain": [
       "<Figure size 432x288 with 1 Axes>"
      ]
     },
     "metadata": {},
     "output_type": "display_data"
    }
   ],
   "source": [
    "# I personally prefer a vertical view and a cyan color\n",
    "sns.boxplot(data=tr_df['Item_Weight'],orient=\"v\", color = 'c')\n",
    "plt.title(\"Item_Weight Boxplot\")"
   ]
  },
  {
   "cell_type": "markdown",
   "id": "b82c56c8",
   "metadata": {
    "papermill": {
     "duration": 0.016492,
     "end_time": "2022-06-10T12:38:34.475459",
     "exception": false,
     "start_time": "2022-06-10T12:38:34.458967",
     "status": "completed"
    },
    "tags": []
   },
   "source": [
    "There are no outliers so we will fill the missing data with the mean value for maximum efficiency:"
   ]
  },
  {
   "cell_type": "code",
   "execution_count": 14,
   "id": "e3b1884e",
   "metadata": {
    "execution": {
     "iopub.execute_input": "2022-06-10T12:38:34.504146Z",
     "iopub.status.busy": "2022-06-10T12:38:34.503477Z",
     "iopub.status.idle": "2022-06-10T12:38:34.512394Z",
     "shell.execute_reply": "2022-06-10T12:38:34.511745Z"
    },
    "papermill": {
     "duration": 0.025099,
     "end_time": "2022-06-10T12:38:34.514106",
     "exception": false,
     "start_time": "2022-06-10T12:38:34.489007",
     "status": "completed"
    },
    "tags": []
   },
   "outputs": [
    {
     "data": {
      "text/plain": [
       "(0, 0)"
      ]
     },
     "execution_count": 14,
     "metadata": {},
     "output_type": "execute_result"
    }
   ],
   "source": [
    "#train\n",
    "tr_df['Item_Weight'] = tr_df['Item_Weight'].fillna(\n",
    "tr_df['Item_Weight'].dropna().mean())\n",
    "\n",
    "#test\n",
    "te_df['Item_Weight'] = te_df['Item_Weight'].fillna(\n",
    "te_df['Item_Weight'].dropna().mean())\n",
    "\n",
    "#checking if we filled missing values\n",
    "tr_df['Item_Weight'].isnull().sum(),te_df['Item_Weight'].isnull().sum()"
   ]
  },
  {
   "cell_type": "markdown",
   "id": "bc185a03",
   "metadata": {
    "papermill": {
     "duration": 0.013068,
     "end_time": "2022-06-10T12:38:34.540394",
     "exception": false,
     "start_time": "2022-06-10T12:38:34.527326",
     "status": "completed"
    },
    "tags": []
   },
   "source": [
    "**Using the info() method we can see that we have succesfully filled all the missing data for both sets:**"
   ]
  },
  {
   "cell_type": "code",
   "execution_count": 15,
   "id": "9a57f837",
   "metadata": {
    "execution": {
     "iopub.execute_input": "2022-06-10T12:38:34.568942Z",
     "iopub.status.busy": "2022-06-10T12:38:34.568270Z",
     "iopub.status.idle": "2022-06-10T12:38:34.591735Z",
     "shell.execute_reply": "2022-06-10T12:38:34.589964Z"
    },
    "papermill": {
     "duration": 0.040496,
     "end_time": "2022-06-10T12:38:34.594177",
     "exception": false,
     "start_time": "2022-06-10T12:38:34.553681",
     "status": "completed"
    },
    "tags": []
   },
   "outputs": [
    {
     "name": "stdout",
     "output_type": "stream",
     "text": [
      "train:\n",
      "\n",
      "<class 'pandas.core.frame.DataFrame'>\n",
      "RangeIndex: 8523 entries, 0 to 8522\n",
      "Data columns (total 12 columns):\n",
      " #   Column                     Non-Null Count  Dtype  \n",
      "---  ------                     --------------  -----  \n",
      " 0   Item_Identifier            8523 non-null   object \n",
      " 1   Item_Weight                8523 non-null   float64\n",
      " 2   Item_Fat_Content           8523 non-null   object \n",
      " 3   Item_Visibility            8523 non-null   float64\n",
      " 4   Item_Type                  8523 non-null   object \n",
      " 5   Item_MRP                   8523 non-null   float64\n",
      " 6   Outlet_Identifier          8523 non-null   object \n",
      " 7   Outlet_Establishment_Year  8523 non-null   int64  \n",
      " 8   Outlet_Size                8523 non-null   object \n",
      " 9   Outlet_Location_Type       8523 non-null   object \n",
      " 10  Outlet_Type                8523 non-null   object \n",
      " 11  Item_Outlet_Sales          8523 non-null   float64\n",
      "dtypes: float64(4), int64(1), object(7)\n",
      "memory usage: 799.2+ KB\n",
      "None\n",
      "\n",
      "\n",
      "test:\n",
      "\n",
      "<class 'pandas.core.frame.DataFrame'>\n",
      "RangeIndex: 5681 entries, 0 to 5680\n",
      "Data columns (total 11 columns):\n",
      " #   Column                     Non-Null Count  Dtype  \n",
      "---  ------                     --------------  -----  \n",
      " 0   Item_Identifier            5681 non-null   object \n",
      " 1   Item_Weight                5681 non-null   float64\n",
      " 2   Item_Fat_Content           5681 non-null   object \n",
      " 3   Item_Visibility            5681 non-null   float64\n",
      " 4   Item_Type                  5681 non-null   object \n",
      " 5   Item_MRP                   5681 non-null   float64\n",
      " 6   Outlet_Identifier          5681 non-null   object \n",
      " 7   Outlet_Establishment_Year  5681 non-null   int64  \n",
      " 8   Outlet_Size                5681 non-null   object \n",
      " 9   Outlet_Location_Type       5681 non-null   object \n",
      " 10  Outlet_Type                5681 non-null   object \n",
      "dtypes: float64(3), int64(1), object(7)\n",
      "memory usage: 488.3+ KB\n",
      "None\n"
     ]
    }
   ],
   "source": [
    "print(\"train:\\n\")\n",
    "print(tr_df.info())\n",
    "print(\"\\n\\ntest:\\n\")\n",
    "print(te_df.info())"
   ]
  },
  {
   "cell_type": "markdown",
   "id": "b4641b1f",
   "metadata": {
    "papermill": {
     "duration": 0.013059,
     "end_time": "2022-06-10T12:38:34.620718",
     "exception": false,
     "start_time": "2022-06-10T12:38:34.607659",
     "status": "completed"
    },
    "tags": []
   },
   "source": [
    "# Data Exploration\n",
    "Firstly we need to split our data to categorical and numerical data,\n",
    "\n",
    "using the .select_dtypes('dtype').columns.to_list() combination."
   ]
  },
  {
   "cell_type": "code",
   "execution_count": 16,
   "id": "7951c016",
   "metadata": {
    "execution": {
     "iopub.execute_input": "2022-06-10T12:38:34.649407Z",
     "iopub.status.busy": "2022-06-10T12:38:34.649013Z",
     "iopub.status.idle": "2022-06-10T12:38:34.669349Z",
     "shell.execute_reply": "2022-06-10T12:38:34.668344Z"
    },
    "papermill": {
     "duration": 0.037306,
     "end_time": "2022-06-10T12:38:34.671413",
     "exception": false,
     "start_time": "2022-06-10T12:38:34.634107",
     "status": "completed"
    },
    "tags": []
   },
   "outputs": [
    {
     "data": {
      "text/plain": [
       "[Low Fat    5089\n",
       " Regular    2889\n",
       " LF          316\n",
       " reg         117\n",
       " low fat     112\n",
       " Name: Item_Fat_Content, dtype: int64,\n",
       " Fruits and Vegetables    1232\n",
       " Snack Foods              1200\n",
       " Household                 910\n",
       " Frozen Foods              856\n",
       " Dairy                     682\n",
       " Canned                    649\n",
       " Baking Goods              648\n",
       " Health and Hygiene        520\n",
       " Soft Drinks               445\n",
       " Meat                      425\n",
       " Breads                    251\n",
       " Hard Drinks               214\n",
       " Others                    169\n",
       " Starchy Foods             148\n",
       " Breakfast                 110\n",
       " Seafood                    64\n",
       " Name: Item_Type, dtype: int64,\n",
       " OUT027    935\n",
       " OUT013    932\n",
       " OUT049    930\n",
       " OUT046    930\n",
       " OUT035    930\n",
       " OUT045    929\n",
       " OUT018    928\n",
       " OUT017    926\n",
       " OUT010    555\n",
       " OUT019    528\n",
       " Name: Outlet_Identifier, dtype: int64,\n",
       " Medium    5203\n",
       " Small     2388\n",
       " High       932\n",
       " Name: Outlet_Size, dtype: int64,\n",
       " Tier 3    3350\n",
       " Tier 2    2785\n",
       " Tier 1    2388\n",
       " Name: Outlet_Location_Type, dtype: int64,\n",
       " Supermarket Type1    5577\n",
       " Grocery Store        1083\n",
       " Supermarket Type3     935\n",
       " Supermarket Type2     928\n",
       " Name: Outlet_Type, dtype: int64]"
      ]
     },
     "execution_count": 16,
     "metadata": {},
     "output_type": "execute_result"
    }
   ],
   "source": [
    "#list of all the numeric columns\n",
    "num = tr_df.select_dtypes('number').columns.to_list()\n",
    "#list of all the categoric columns\n",
    "cat = tr_df.select_dtypes('object').columns.to_list()\n",
    "\n",
    "#numeric df\n",
    "BM_num =  tr_df[num]\n",
    "#categoric df\n",
    "BM_cat = tr_df[cat]\n",
    "\n",
    "#print(num)\n",
    "#print(cat)\n",
    "\n",
    "[tr_df[category].value_counts() for category in cat[1:]]"
   ]
  },
  {
   "cell_type": "markdown",
   "id": "a8ce0163",
   "metadata": {
    "papermill": {
     "duration": 0.013616,
     "end_time": "2022-06-10T12:38:34.698897",
     "exception": false,
     "start_time": "2022-06-10T12:38:34.685281",
     "status": "completed"
    },
    "tags": []
   },
   "source": [
    "We can See we have Repeating values with different names in the Item_Fat_Content replace() column, we will correct them using the using the Item_Fat_Content replace() method"
   ]
  },
  {
   "cell_type": "code",
   "execution_count": 17,
   "id": "d6ce083f",
   "metadata": {
    "execution": {
     "iopub.execute_input": "2022-06-10T12:38:34.727593Z",
     "iopub.status.busy": "2022-06-10T12:38:34.727167Z",
     "iopub.status.idle": "2022-06-10T12:38:34.739777Z",
     "shell.execute_reply": "2022-06-10T12:38:34.739082Z"
    },
    "papermill": {
     "duration": 0.029101,
     "end_time": "2022-06-10T12:38:34.741497",
     "exception": false,
     "start_time": "2022-06-10T12:38:34.712396",
     "status": "completed"
    },
    "tags": []
   },
   "outputs": [
    {
     "data": {
      "text/plain": [
       "Low Fat    5517\n",
       "Regular    3006\n",
       "Name: Item_Fat_Content, dtype: int64"
      ]
     },
     "execution_count": 17,
     "metadata": {},
     "output_type": "execute_result"
    }
   ],
   "source": [
    "#train\n",
    "tr_df['Item_Fat_Content'].replace(['LF', 'low fat', 'reg'], \n",
    "                                  ['Low Fat','Low Fat','Regular'],inplace = True)\n",
    "#test\n",
    "te_df['Item_Fat_Content'].replace(['LF', 'low fat', 'reg'], \n",
    "                                  ['Low Fat','Low Fat','Regular'],inplace = True)\n",
    "\n",
    "#check result\n",
    "tr_df.Item_Fat_Content.value_counts()"
   ]
  },
  {
   "cell_type": "code",
   "execution_count": 18,
   "id": "91b446ae",
   "metadata": {
    "execution": {
     "iopub.execute_input": "2022-06-10T12:38:34.772235Z",
     "iopub.status.busy": "2022-06-10T12:38:34.771561Z",
     "iopub.status.idle": "2022-06-10T12:38:34.787051Z",
     "shell.execute_reply": "2022-06-10T12:38:34.786291Z"
    },
    "papermill": {
     "duration": 0.032759,
     "end_time": "2022-06-10T12:38:34.788958",
     "exception": false,
     "start_time": "2022-06-10T12:38:34.756199",
     "status": "completed"
    },
    "tags": []
   },
   "outputs": [
    {
     "data": {
      "text/html": [
       "<div>\n",
       "<style scoped>\n",
       "    .dataframe tbody tr th:only-of-type {\n",
       "        vertical-align: middle;\n",
       "    }\n",
       "\n",
       "    .dataframe tbody tr th {\n",
       "        vertical-align: top;\n",
       "    }\n",
       "\n",
       "    .dataframe thead th {\n",
       "        text-align: right;\n",
       "    }\n",
       "</style>\n",
       "<table border=\"1\" class=\"dataframe\">\n",
       "  <thead>\n",
       "    <tr style=\"text-align: right;\">\n",
       "      <th></th>\n",
       "      <th>Item_Identifier</th>\n",
       "      <th>Item_Weight</th>\n",
       "      <th>Item_Fat_Content</th>\n",
       "      <th>Item_Visibility</th>\n",
       "      <th>Item_Type</th>\n",
       "      <th>Item_MRP</th>\n",
       "      <th>Outlet_Identifier</th>\n",
       "      <th>Outlet_Establishment_Year</th>\n",
       "      <th>Outlet_Size</th>\n",
       "      <th>Outlet_Location_Type</th>\n",
       "      <th>Outlet_Type</th>\n",
       "      <th>Item_Outlet_Sales</th>\n",
       "    </tr>\n",
       "  </thead>\n",
       "  <tbody>\n",
       "    <tr>\n",
       "      <th>0</th>\n",
       "      <td>FDA15</td>\n",
       "      <td>9.30</td>\n",
       "      <td>Low Fat</td>\n",
       "      <td>0.016047</td>\n",
       "      <td>Dairy</td>\n",
       "      <td>249.8092</td>\n",
       "      <td>OUT049</td>\n",
       "      <td>1999</td>\n",
       "      <td>Medium</td>\n",
       "      <td>Tier 1</td>\n",
       "      <td>Supermarket Type1</td>\n",
       "      <td>3735.1380</td>\n",
       "    </tr>\n",
       "    <tr>\n",
       "      <th>1</th>\n",
       "      <td>DRC01</td>\n",
       "      <td>5.92</td>\n",
       "      <td>Regular</td>\n",
       "      <td>0.019278</td>\n",
       "      <td>Soft Drinks</td>\n",
       "      <td>48.2692</td>\n",
       "      <td>OUT018</td>\n",
       "      <td>2009</td>\n",
       "      <td>Medium</td>\n",
       "      <td>Tier 3</td>\n",
       "      <td>Supermarket Type2</td>\n",
       "      <td>443.4228</td>\n",
       "    </tr>\n",
       "    <tr>\n",
       "      <th>2</th>\n",
       "      <td>FDN15</td>\n",
       "      <td>17.50</td>\n",
       "      <td>Low Fat</td>\n",
       "      <td>0.016760</td>\n",
       "      <td>Meat</td>\n",
       "      <td>141.6180</td>\n",
       "      <td>OUT049</td>\n",
       "      <td>1999</td>\n",
       "      <td>Medium</td>\n",
       "      <td>Tier 1</td>\n",
       "      <td>Supermarket Type1</td>\n",
       "      <td>2097.2700</td>\n",
       "    </tr>\n",
       "    <tr>\n",
       "      <th>3</th>\n",
       "      <td>FDX07</td>\n",
       "      <td>19.20</td>\n",
       "      <td>Regular</td>\n",
       "      <td>0.000000</td>\n",
       "      <td>Fruits and Vegetables</td>\n",
       "      <td>182.0950</td>\n",
       "      <td>OUT010</td>\n",
       "      <td>1998</td>\n",
       "      <td>Medium</td>\n",
       "      <td>Tier 3</td>\n",
       "      <td>Grocery Store</td>\n",
       "      <td>732.3800</td>\n",
       "    </tr>\n",
       "    <tr>\n",
       "      <th>4</th>\n",
       "      <td>NCD19</td>\n",
       "      <td>8.93</td>\n",
       "      <td>Low Fat</td>\n",
       "      <td>0.000000</td>\n",
       "      <td>Household</td>\n",
       "      <td>53.8614</td>\n",
       "      <td>OUT013</td>\n",
       "      <td>1987</td>\n",
       "      <td>High</td>\n",
       "      <td>Tier 3</td>\n",
       "      <td>Supermarket Type1</td>\n",
       "      <td>994.7052</td>\n",
       "    </tr>\n",
       "  </tbody>\n",
       "</table>\n",
       "</div>"
      ],
      "text/plain": [
       "  Item_Identifier  Item_Weight Item_Fat_Content  Item_Visibility  \\\n",
       "0           FDA15         9.30          Low Fat         0.016047   \n",
       "1           DRC01         5.92          Regular         0.019278   \n",
       "2           FDN15        17.50          Low Fat         0.016760   \n",
       "3           FDX07        19.20          Regular         0.000000   \n",
       "4           NCD19         8.93          Low Fat         0.000000   \n",
       "\n",
       "               Item_Type  Item_MRP Outlet_Identifier  \\\n",
       "0                  Dairy  249.8092            OUT049   \n",
       "1            Soft Drinks   48.2692            OUT018   \n",
       "2                   Meat  141.6180            OUT049   \n",
       "3  Fruits and Vegetables  182.0950            OUT010   \n",
       "4              Household   53.8614            OUT013   \n",
       "\n",
       "   Outlet_Establishment_Year Outlet_Size Outlet_Location_Type  \\\n",
       "0                       1999      Medium               Tier 1   \n",
       "1                       2009      Medium               Tier 3   \n",
       "2                       1999      Medium               Tier 1   \n",
       "3                       1998      Medium               Tier 3   \n",
       "4                       1987        High               Tier 3   \n",
       "\n",
       "         Outlet_Type  Item_Outlet_Sales  \n",
       "0  Supermarket Type1          3735.1380  \n",
       "1  Supermarket Type2           443.4228  \n",
       "2  Supermarket Type1          2097.2700  \n",
       "3      Grocery Store           732.3800  \n",
       "4  Supermarket Type1           994.7052  "
      ]
     },
     "execution_count": 18,
     "metadata": {},
     "output_type": "execute_result"
    }
   ],
   "source": [
    "tr_df.head()"
   ]
  },
  {
   "cell_type": "markdown",
   "id": "7b1ae4f1",
   "metadata": {
    "papermill": {
     "duration": 0.013308,
     "end_time": "2022-06-10T12:38:34.816118",
     "exception": false,
     "start_time": "2022-06-10T12:38:34.802810",
     "status": "completed"
    },
    "tags": []
   },
   "source": [
    "Outlet_Establishment_Year is quite useless as it is, making a new column with the age the new name will be Outlet_Age"
   ]
  },
  {
   "cell_type": "code",
   "execution_count": 19,
   "id": "95bbe8f2",
   "metadata": {
    "execution": {
     "iopub.execute_input": "2022-06-10T12:38:34.845823Z",
     "iopub.status.busy": "2022-06-10T12:38:34.845246Z",
     "iopub.status.idle": "2022-06-10T12:38:34.859374Z",
     "shell.execute_reply": "2022-06-10T12:38:34.858589Z"
    },
    "papermill": {
     "duration": 0.031943,
     "end_time": "2022-06-10T12:38:34.861994",
     "exception": false,
     "start_time": "2022-06-10T12:38:34.830051",
     "status": "completed"
    },
    "tags": []
   },
   "outputs": [
    {
     "data": {
      "text/plain": [
       "<bound method NDFrame.head of 0       21\n",
       "1       13\n",
       "2       22\n",
       "3       13\n",
       "4       35\n",
       "        ..\n",
       "5676    23\n",
       "5677    11\n",
       "5678    18\n",
       "5679    13\n",
       "5680    18\n",
       "Name: Outlet_Age, Length: 5681, dtype: int64>"
      ]
     },
     "execution_count": 19,
     "metadata": {},
     "output_type": "execute_result"
    }
   ],
   "source": [
    "#creating our new column for both datasets\n",
    "tr_df['Outlet_Age'], te_df['Outlet_Age']= tr_df['Outlet_Establishment_Year'].apply(lambda year: 2020 - year), te_df['Outlet_Establishment_Year'].apply(lambda year: 2020 - year)\n",
    "\n",
    "##uncomment to check result\n",
    "tr_df['Outlet_Age'].head\n",
    "te_df['Outlet_Age'].head"
   ]
  },
  {
   "cell_type": "markdown",
   "id": "f2e5875a",
   "metadata": {
    "papermill": {
     "duration": 0.013417,
     "end_time": "2022-06-10T12:38:34.889754",
     "exception": false,
     "start_time": "2022-06-10T12:38:34.876337",
     "status": "completed"
    },
    "tags": []
   },
   "source": [
    "# Data Visualization\n",
    "# Univariate Plots\n",
    "# For Categorical columns:"
   ]
  },
  {
   "cell_type": "code",
   "execution_count": 20,
   "id": "066fde94",
   "metadata": {
    "execution": {
     "iopub.execute_input": "2022-06-10T12:38:34.919824Z",
     "iopub.status.busy": "2022-06-10T12:38:34.919234Z",
     "iopub.status.idle": "2022-06-10T12:38:35.092257Z",
     "shell.execute_reply": "2022-06-10T12:38:35.091302Z"
    },
    "papermill": {
     "duration": 0.190756,
     "end_time": "2022-06-10T12:38:35.094702",
     "exception": false,
     "start_time": "2022-06-10T12:38:34.903946",
     "status": "completed"
    },
    "tags": []
   },
   "outputs": [
    {
     "data": {
      "image/png": "[encoded data removed]",
      "text/plain": [
       "<Figure size 216x432 with 1 Axes>"
      ]
     },
     "metadata": {},
     "output_type": "display_data"
    }
   ],
   "source": [
    "#categorical columns:\n",
    "['Item_Identifier', 'Item_Fat_Content', 'Item_Type', 'Outlet_Identifier', \n",
    " 'Outlet_Size', 'Outlet_Location_Type', 'Outlet_Type']\n",
    " \n",
    "plt.figure(figsize=(3,6))\n",
    "sns.countplot(x='Item_Fat_Content' , data=tr_df ,palette='mako')\n",
    "plt.xlabel('Item_Fat_Content', fontsize=14)\n",
    "plt.show()"
   ]
  },
  {
   "cell_type": "code",
   "execution_count": 21,
   "id": "8864dfbc",
   "metadata": {
    "execution": {
     "iopub.execute_input": "2022-06-10T12:38:35.127001Z",
     "iopub.status.busy": "2022-06-10T12:38:35.126627Z",
     "iopub.status.idle": "2022-06-10T12:38:35.420973Z",
     "shell.execute_reply": "2022-06-10T12:38:35.419876Z"
    },
    "papermill": {
     "duration": 0.312499,
     "end_time": "2022-06-10T12:38:35.423306",
     "exception": false,
     "start_time": "2022-06-10T12:38:35.110807",
     "status": "completed"
    },
    "tags": []
   },
   "outputs": [
    {
     "data": {
      "image/png": "[encoded data removed]",
      "text/plain": [
       "<Figure size 720x648 with 1 Axes>"
      ]
     },
     "metadata": {},
     "output_type": "display_data"
    }
   ],
   "source": [
    "plt.figure(figsize=(10,9))\n",
    "sns.countplot(x='Item_Type' , data=tr_df ,palette='summer')\n",
    "plt.xlabel('Item_Type', fontsize=14)\n",
    "plt.show()"
   ]
  },
  {
   "cell_type": "code",
   "execution_count": 22,
   "id": "d5ad504c",
   "metadata": {
    "execution": {
     "iopub.execute_input": "2022-06-10T12:38:35.454418Z",
     "iopub.status.busy": "2022-06-10T12:38:35.453877Z",
     "iopub.status.idle": "2022-06-10T12:38:35.670158Z",
     "shell.execute_reply": "2022-06-10T12:38:35.669518Z"
    },
    "papermill": {
     "duration": 0.234042,
     "end_time": "2022-06-10T12:38:35.671985",
     "exception": false,
     "start_time": "2022-06-10T12:38:35.437943",
     "status": "completed"
    },
    "tags": []
   },
   "outputs": [
    {
     "data": {
      "image/png": "[encoded data removed]",
      "text/plain": [
       "<Figure size 576x360 with 1 Axes>"
      ]
     },
     "metadata": {},
     "output_type": "display_data"
    }
   ],
   "source": [
    "plt.figure(figsize=(8,5))\n",
    "sns.countplot(x='Outlet_Identifier' , data=tr_df ,palette='winter')\n",
    "plt.xlabel('Outlet_Identifier', fontsize=14)\n",
    "plt.show()"
   ]
  },
  {
   "cell_type": "code",
   "execution_count": 23,
   "id": "eee2367c",
   "metadata": {
    "execution": {
     "iopub.execute_input": "2022-06-10T12:38:35.703356Z",
     "iopub.status.busy": "2022-06-10T12:38:35.702730Z",
     "iopub.status.idle": "2022-06-10T12:38:35.817245Z",
     "shell.execute_reply": "2022-06-10T12:38:35.816169Z"
    },
    "papermill": {
     "duration": 0.133481,
     "end_time": "2022-06-10T12:38:35.820252",
     "exception": false,
     "start_time": "2022-06-10T12:38:35.686771",
     "status": "completed"
    },
    "tags": []
   },
   "outputs": [
    {
     "data": {
      "image/png": "[encoded data removed]",
      "text/plain": [
       "<Figure size 144x360 with 1 Axes>"
      ]
     },
     "metadata": {},
     "output_type": "display_data"
    }
   ],
   "source": [
    "plt.figure(figsize=(2,5))\n",
    "sns.countplot(x='Outlet_Size' , data=tr_df ,palette='autumn')\n",
    "plt.xlabel('Outlet_Size', fontsize=14)\n",
    "plt.show()"
   ]
  },
  {
   "cell_type": "code",
   "execution_count": 24,
   "id": "966ed879",
   "metadata": {
    "execution": {
     "iopub.execute_input": "2022-06-10T12:38:35.877712Z",
     "iopub.status.busy": "2022-06-10T12:38:35.877321Z",
     "iopub.status.idle": "2022-06-10T12:38:36.056020Z",
     "shell.execute_reply": "2022-06-10T12:38:36.055306Z"
    },
    "papermill": {
     "duration": 0.205282,
     "end_time": "2022-06-10T12:38:36.057874",
     "exception": false,
     "start_time": "2022-06-10T12:38:35.852592",
     "status": "completed"
    },
    "tags": []
   },
   "outputs": [
    {
     "data": {
      "image/png": "[encoded data removed]",
      "text/plain": [
       "<Figure size 360x288 with 1 Axes>"
      ]
     },
     "metadata": {},
     "output_type": "display_data"
    }
   ],
   "source": [
    "plt.figure(figsize=(5,4))\n",
    "sns.countplot(x='Outlet_Location_Type' , data=tr_df ,palette='twilight_shifted')\n",
    "plt.xlabel('Outlet_Location_Type', fontsize=14)\n",
    "plt.show()"
   ]
  },
  {
   "cell_type": "code",
   "execution_count": 25,
   "id": "f062bef6",
   "metadata": {
    "execution": {
     "iopub.execute_input": "2022-06-10T12:38:36.091308Z",
     "iopub.status.busy": "2022-06-10T12:38:36.090544Z",
     "iopub.status.idle": "2022-06-10T12:38:36.272370Z",
     "shell.execute_reply": "2022-06-10T12:38:36.271452Z"
    },
    "papermill": {
     "duration": 0.201431,
     "end_time": "2022-06-10T12:38:36.274417",
     "exception": false,
     "start_time": "2022-06-10T12:38:36.072986",
     "status": "completed"
    },
    "tags": []
   },
   "outputs": [
    {
     "data": {
      "image/png": "[encoded data removed]",
      "text/plain": [
       "<Figure size 432x288 with 1 Axes>"
      ]
     },
     "metadata": {},
     "output_type": "display_data"
    }
   ],
   "source": [
    "plt.figure(figsize=(6,4))\n",
    "sns.countplot(x='Outlet_Type' , data=tr_df ,palette='rocket')\n",
    "plt.xlabel('Outlet_Type', fontsize=14)\n",
    "plt.show()"
   ]
  },
  {
   "cell_type": "markdown",
   "id": "85e07f10",
   "metadata": {
    "papermill": {
     "duration": 0.01488,
     "end_time": "2022-06-10T12:38:36.304619",
     "exception": false,
     "start_time": "2022-06-10T12:38:36.289739",
     "status": "completed"
    },
    "tags": []
   },
   "source": [
    "# Categoric columns realizations\n",
    "* Item_Fat_Content - Most items sold are low fat.\n",
    "* Item_Type - Item types that are distictly popular are fruits and vegetables and snack foods.\n",
    "* Outlet_Identifier - Sold items are ditributed evenly among outlets excluding OUT010 and OUT019 that are significanly lower.\n",
    "* Outlet_Size - Bigmart outlets are mostly medium sized in our data.\n",
    "* Outlet_Location_Type - The most common type is Tier3.\n",
    "* Outlet_Type - By a wide margin the mode outlet type is Supermarket Type1."
   ]
  },
  {
   "cell_type": "markdown",
   "id": "fe1b5c74",
   "metadata": {
    "papermill": {
     "duration": 0.014893,
     "end_time": "2022-06-10T12:38:36.335018",
     "exception": false,
     "start_time": "2022-06-10T12:38:36.320125",
     "status": "completed"
    },
    "tags": []
   },
   "source": [
    "# Now for the numerical columns:"
   ]
  },
  {
   "cell_type": "code",
   "execution_count": 26,
   "id": "6424a75a",
   "metadata": {
    "execution": {
     "iopub.execute_input": "2022-06-10T12:38:36.367181Z",
     "iopub.status.busy": "2022-06-10T12:38:36.366489Z",
     "iopub.status.idle": "2022-06-10T12:38:36.810131Z",
     "shell.execute_reply": "2022-06-10T12:38:36.809465Z"
    },
    "papermill": {
     "duration": 0.461915,
     "end_time": "2022-06-10T12:38:36.811966",
     "exception": false,
     "start_time": "2022-06-10T12:38:36.350051",
     "status": "completed"
    },
    "tags": []
   },
   "outputs": [
    {
     "data": {
      "image/png": "[encoded data removed]",
      "text/plain": [
       "<Figure size 432x288 with 1 Axes>"
      ]
     },
     "metadata": {},
     "output_type": "display_data"
    },
    {
     "data": {
      "image/png": "[encoded data removed]",
      "text/plain": [
       "<Figure size 432x288 with 1 Axes>"
      ]
     },
     "metadata": {},
     "output_type": "display_data"
    }
   ],
   "source": [
    "#list of all the numeric columns\n",
    "num = tr_df.select_dtypes('number').columns.to_list()\n",
    "#numeric df\n",
    "BM_num =  tr_df[num]\n",
    "\n",
    "plt.hist(tr_df['Outlet_Age'])\n",
    "plt.title(\"Outlet_Age\")\n",
    "plt.show()#list of all the numeric columns\n",
    "num = tr_df.select_dtypes('number').columns.to_list()\n",
    "#numeric df\n",
    "BM_num =  tr_df[num]\n",
    "\n",
    "plt.hist(tr_df['Outlet_Age'])\n",
    "plt.title(\"Outlet_Age\")\n",
    "plt.show()"
   ]
  },
  {
   "cell_type": "code",
   "execution_count": 27,
   "id": "f50a45e7",
   "metadata": {
    "execution": {
     "iopub.execute_input": "2022-06-10T12:38:36.844805Z",
     "iopub.status.busy": "2022-06-10T12:38:36.844087Z",
     "iopub.status.idle": "2022-06-10T12:38:37.561924Z",
     "shell.execute_reply": "2022-06-10T12:38:37.560856Z"
    },
    "papermill": {
     "duration": 0.736884,
     "end_time": "2022-06-10T12:38:37.564331",
     "exception": false,
     "start_time": "2022-06-10T12:38:36.827447",
     "status": "completed"
    },
    "tags": []
   },
   "outputs": [
    {
     "data": {
      "image/png": "[encoded data removed]",
      "text/plain": [
       "<Figure size 432x288 with 1 Axes>"
      ]
     },
     "metadata": {},
     "output_type": "display_data"
    },
    {
     "data": {
      "image/png": "[encoded data removed]",
      "text/plain": [
       "<Figure size 432x288 with 1 Axes>"
      ]
     },
     "metadata": {},
     "output_type": "display_data"
    },
    {
     "data": {
      "image/png": "[encoded data removed]",
      "text/plain": [
       "<Figure size 432x288 with 1 Axes>"
      ]
     },
     "metadata": {},
     "output_type": "display_data"
    }
   ],
   "source": [
    "#because of the variability of the unique values of the numeric columns a scatter plot with the target value will be of use\n",
    "for numeric in BM_num[num[:3]]:\n",
    "    plt.scatter(BM_num[numeric], BM_num['Item_Outlet_Sales'])\n",
    "    plt.title(numeric)\n",
    "    plt.ylabel('Item_Outlet_Sales')\n",
    "    plt.show()"
   ]
  },
  {
   "cell_type": "markdown",
   "id": "444f172f",
   "metadata": {
    "papermill": {
     "duration": 0.034495,
     "end_time": "2022-06-10T12:38:37.616584",
     "exception": false,
     "start_time": "2022-06-10T12:38:37.582089",
     "status": "completed"
    },
    "tags": []
   },
   "source": [
    "# Numeric columns realizations\n",
    "* Outlet_Age - The most common outlets are 35 years old.\n",
    "* Item_Weight - The data is very spreaded, no specific pattern.\n",
    "* Item_Visibility - Appears to be spreaded as well but some concentration around the (0,0) indicate small visibility items are not selling well is some cases.\n",
    "* Item_MRP - Items with higher MRP tend to sell better in most cases.\n",
    "# Multivariate plots\n",
    "* We want to check the following relationships with Item_Outlet_Sales:\n",
    "* Sales per item type\n",
    "* Sales per outlet\n",
    "* Sales per outlet type\n",
    "* Sales per outlet size\n",
    "* Sales per location type"
   ]
  },
  {
   "cell_type": "code",
   "execution_count": 28,
   "id": "64fbcce2",
   "metadata": {
    "execution": {
     "iopub.execute_input": "2022-06-10T12:38:37.652535Z",
     "iopub.status.busy": "2022-06-10T12:38:37.651277Z",
     "iopub.status.idle": "2022-06-10T12:38:38.395285Z",
     "shell.execute_reply": "2022-06-10T12:38:38.394388Z"
    },
    "papermill": {
     "duration": 0.763944,
     "end_time": "2022-06-10T12:38:38.397407",
     "exception": false,
     "start_time": "2022-06-10T12:38:37.633463",
     "status": "completed"
    },
    "tags": []
   },
   "outputs": [
    {
     "data": {
      "image/png": "[encoded data removed]",
      "text/plain": [
       "<Figure size 936x648 with 1 Axes>"
      ]
     },
     "metadata": {},
     "output_type": "display_data"
    }
   ],
   "source": [
    "plt.figure(figsize=(13,9))\n",
    "sns.barplot('Item_Type' ,'Item_Outlet_Sales', data=tr_df ,palette='gist_rainbow_r')\n",
    "plt.xlabel('Item_Type', fontsize=12)\n",
    "plt.legend()\n",
    "plt.show()"
   ]
  },
  {
   "cell_type": "code",
   "execution_count": 29,
   "id": "f4ead206",
   "metadata": {
    "execution": {
     "iopub.execute_input": "2022-06-10T12:38:38.433602Z",
     "iopub.status.busy": "2022-06-10T12:38:38.432997Z",
     "iopub.status.idle": "2022-06-10T12:38:39.150021Z",
     "shell.execute_reply": "2022-06-10T12:38:39.149140Z"
    },
    "papermill": {
     "duration": 0.737716,
     "end_time": "2022-06-10T12:38:39.152092",
     "exception": false,
     "start_time": "2022-06-10T12:38:38.414376",
     "status": "completed"
    },
    "tags": []
   },
   "outputs": [
    {
     "data": {
      "image/png": "[encoded data removed]",
      "text/plain": [
       "<Figure size 864x648 with 1 Axes>"
      ]
     },
     "metadata": {},
     "output_type": "display_data"
    }
   ],
   "source": [
    "plt.figure(figsize=(12,9))\n",
    "sns.barplot('Outlet_Identifier' ,'Item_Outlet_Sales', data=tr_df ,palette='gist_rainbow')\n",
    "plt.xlabel('Outlet_Identifier', fontsize=14)\n",
    "plt.legend()\n",
    "plt.show()"
   ]
  },
  {
   "cell_type": "code",
   "execution_count": 30,
   "id": "3764684b",
   "metadata": {
    "execution": {
     "iopub.execute_input": "2022-06-10T12:38:39.189551Z",
     "iopub.status.busy": "2022-06-10T12:38:39.188559Z",
     "iopub.status.idle": "2022-06-10T12:38:39.560910Z",
     "shell.execute_reply": "2022-06-10T12:38:39.559028Z"
    },
    "papermill": {
     "duration": 0.393418,
     "end_time": "2022-06-10T12:38:39.563237",
     "exception": false,
     "start_time": "2022-06-10T12:38:39.169819",
     "status": "completed"
    },
    "tags": []
   },
   "outputs": [
    {
     "data": {
      "image/png": "[encoded data removed]",
      "text/plain": [
       "<Figure size 288x360 with 1 Axes>"
      ]
     },
     "metadata": {},
     "output_type": "display_data"
    }
   ],
   "source": [
    "plt.figure(figsize=(4,5))\n",
    "sns.barplot('Outlet_Type' ,'Item_Outlet_Sales', data=tr_df ,palette='nipy_spectral')\n",
    "plt.xlabel('Outlet_Type', fontsize=14)\n",
    "plt.legend()\n",
    "plt.show()"
   ]
  },
  {
   "cell_type": "code",
   "execution_count": 31,
   "id": "e52b0a57",
   "metadata": {
    "execution": {
     "iopub.execute_input": "2022-06-10T12:38:39.601352Z",
     "iopub.status.busy": "2022-06-10T12:38:39.600762Z",
     "iopub.status.idle": "2022-06-10T12:38:39.936188Z",
     "shell.execute_reply": "2022-06-10T12:38:39.934785Z"
    },
    "papermill": {
     "duration": 0.357041,
     "end_time": "2022-06-10T12:38:39.938167",
     "exception": false,
     "start_time": "2022-06-10T12:38:39.581126",
     "status": "completed"
    },
    "tags": []
   },
   "outputs": [
    {
     "data": {
      "image/png": "[encoded data removed]",
      "text/plain": [
       "<Figure size 504x360 with 1 Axes>"
      ]
     },
     "metadata": {},
     "output_type": "display_data"
    }
   ],
   "source": [
    "plt.figure(figsize=(7,5))\n",
    "sns.barplot('Outlet_Size' ,'Item_Outlet_Sales', data=tr_df ,palette='YlOrRd')\n",
    "plt.xlabel('Outlet_Size', fontsize=14)\n",
    "plt.legend()\n",
    "plt.show()"
   ]
  },
  {
   "cell_type": "code",
   "execution_count": 32,
   "id": "ce8d2de4",
   "metadata": {
    "execution": {
     "iopub.execute_input": "2022-06-10T12:38:39.976540Z",
     "iopub.status.busy": "2022-06-10T12:38:39.976018Z",
     "iopub.status.idle": "2022-06-10T12:38:40.306375Z",
     "shell.execute_reply": "2022-06-10T12:38:40.305460Z"
    },
    "papermill": {
     "duration": 0.352182,
     "end_time": "2022-06-10T12:38:40.308423",
     "exception": false,
     "start_time": "2022-06-10T12:38:39.956241",
     "status": "completed"
    },
    "tags": []
   },
   "outputs": [
    {
     "data": {
      "image/png": "[encoded data removed]",
      "text/plain": [
       "<Figure size 504x288 with 1 Axes>"
      ]
     },
     "metadata": {},
     "output_type": "display_data"
    }
   ],
   "source": [
    "plt.figure(figsize=(7,4))\n",
    "sns.barplot('Outlet_Location_Type' ,'Item_Outlet_Sales', data=tr_df ,palette='Spectral')\n",
    "plt.xlabel('Outlet_Location_Type', fontsize=14)\n",
    "plt.legend()\n",
    "plt.show()"
   ]
  },
  {
   "cell_type": "markdown",
   "id": "5ec972ae",
   "metadata": {
    "papermill": {
     "duration": 0.019799,
     "end_time": "2022-06-10T12:38:40.347406",
     "exception": false,
     "start_time": "2022-06-10T12:38:40.327607",
     "status": "completed"
    },
    "tags": []
   },
   "source": [
    "# Realizations:\n",
    "The difference in item types by sales is very small.\n",
    "Outlet 27 is the most profitable and there is a big diffrence between each specific outlet sales.\n",
    "Suprisingly supermarket type 3 is the most profitable and not type 1.\n",
    "Medium and high outlet sizes are pretty much even in sales.\n",
    "Tier 2 and 3 are almost even being the highest in sales (2 is slightly larger).\n",
    "# Correlation Matrix"
   ]
  },
  {
   "cell_type": "code",
   "execution_count": 33,
   "id": "0d3e52d4",
   "metadata": {
    "execution": {
     "iopub.execute_input": "2022-06-10T12:38:40.387127Z",
     "iopub.status.busy": "2022-06-10T12:38:40.386359Z",
     "iopub.status.idle": "2022-06-10T12:38:40.673342Z",
     "shell.execute_reply": "2022-06-10T12:38:40.672401Z"
    },
    "papermill": {
     "duration": 0.308908,
     "end_time": "2022-06-10T12:38:40.675340",
     "exception": false,
     "start_time": "2022-06-10T12:38:40.366432",
     "status": "completed"
    },
    "tags": []
   },
   "outputs": [
    {
     "data": {
      "text/plain": [
       "<AxesSubplot:>"
      ]
     },
     "execution_count": 33,
     "metadata": {},
     "output_type": "execute_result"
    },
    {
     "data": {
      "image/png": "[encoded data removed]",
      "text/plain": [
       "<Figure size 432x288 with 2 Axes>"
      ]
     },
     "metadata": {},
     "output_type": "display_data"
    }
   ],
   "source": [
    "#plotting the correlation matrix\n",
    "sns.heatmap(tr_df.corr() ,cmap='rocket')"
   ]
  },
  {
   "cell_type": "code",
   "execution_count": 34,
   "id": "cf0353a5",
   "metadata": {
    "execution": {
     "iopub.execute_input": "2022-06-10T12:38:40.716248Z",
     "iopub.status.busy": "2022-06-10T12:38:40.715345Z",
     "iopub.status.idle": "2022-06-10T12:38:41.016877Z",
     "shell.execute_reply": "2022-06-10T12:38:41.016129Z"
    },
    "papermill": {
     "duration": 0.324229,
     "end_time": "2022-06-10T12:38:41.018888",
     "exception": false,
     "start_time": "2022-06-10T12:38:40.694659",
     "status": "completed"
    },
    "tags": []
   },
   "outputs": [
    {
     "data": {
      "image/png": "[encoded data removed]",
      "text/plain": [
       "<Figure size 576x720 with 2 Axes>"
      ]
     },
     "metadata": {},
     "output_type": "display_data"
    }
   ],
   "source": [
    "#Checking correlation via heatmap:\n",
    "plt.figure(figsize=(8,10))\n",
    "sns.heatmap(tr_df.corr(),cmap=\"YlGnBu\")\n",
    "plt.show()"
   ]
  },
  {
   "cell_type": "markdown",
   "id": "b63a6d37",
   "metadata": {
    "papermill": {
     "duration": 0.020987,
     "end_time": "2022-06-10T12:38:41.060225",
     "exception": false,
     "start_time": "2022-06-10T12:38:41.039238",
     "status": "completed"
    },
    "tags": []
   },
   "source": [
    "# We can see Item_Outlet_Sales is highly correlated with Item_MRP"
   ]
  },
  {
   "cell_type": "markdown",
   "id": "1c1544c0",
   "metadata": {
    "papermill": {
     "duration": 0.020178,
     "end_time": "2022-06-10T12:38:41.100612",
     "exception": false,
     "start_time": "2022-06-10T12:38:41.080434",
     "status": "completed"
    },
    "tags": []
   },
   "source": [
    "# Feature Engineering\n",
    "**Categorical values:**\n",
    "\n",
    "We have 7 columns we need to delete or encode.\n",
    "\n",
    "**Ordinal variables:**\n",
    "\n",
    "* Item_Fat_Content\n",
    "* Outlet_Size\n",
    "* Outlet_Location_Type\n",
    "\n",
    "**Nominal variables:**\n",
    "\n",
    "* Item_Identifier\n",
    "* Item_Type\n",
    "* Outlet_Identifier\n",
    "* Outlet_Type"
   ]
  },
  {
   "cell_type": "markdown",
   "id": "5ed35b13",
   "metadata": {
    "papermill": {
     "duration": 0.019977,
     "end_time": "2022-06-10T12:38:41.141231",
     "exception": false,
     "start_time": "2022-06-10T12:38:41.121254",
     "status": "completed"
    },
    "tags": []
   },
   "source": [
    "# Numeric values:\n",
    "\n",
    "* From the numeric variables Outlet_Establishment_Year is no longer needed\n",
    "\n",
    "Conclusion:\n",
    "\n",
    "* The columns Outlet_Establishment_Year, Item_Identifier and Outlet_Identifier don't have significant values so we will drop them.\n",
    "* All Ordinal variables will be Label encoded.\n",
    "* The columns Outlet_Type and Item_Type will be One Hot encoded."
   ]
  },
  {
   "cell_type": "code",
   "execution_count": 35,
   "id": "4ae30a30",
   "metadata": {
    "execution": {
     "iopub.execute_input": "2022-06-10T12:38:41.183592Z",
     "iopub.status.busy": "2022-06-10T12:38:41.182937Z",
     "iopub.status.idle": "2022-06-10T12:38:41.195772Z",
     "shell.execute_reply": "2022-06-10T12:38:41.194770Z"
    },
    "papermill": {
     "duration": 0.036338,
     "end_time": "2022-06-10T12:38:41.197733",
     "exception": false,
     "start_time": "2022-06-10T12:38:41.161395",
     "status": "completed"
    },
    "tags": []
   },
   "outputs": [
    {
     "data": {
      "text/plain": [
       "Item_Identifier         1559\n",
       "Item_Fat_Content           5\n",
       "Item_Type                 16\n",
       "Outlet_Identifier         10\n",
       "Outlet_Size                3\n",
       "Outlet_Location_Type       3\n",
       "Outlet_Type                4\n",
       "dtype: int64"
      ]
     },
     "execution_count": 35,
     "metadata": {},
     "output_type": "execute_result"
    }
   ],
   "source": [
    "BM_cat.apply(lambda x: x.nunique()) #checking the number of unique values in each column"
   ]
  },
  {
   "cell_type": "code",
   "execution_count": 36,
   "id": "e77f576d",
   "metadata": {
    "execution": {
     "iopub.execute_input": "2022-06-10T12:38:41.239767Z",
     "iopub.status.busy": "2022-06-10T12:38:41.239077Z",
     "iopub.status.idle": "2022-06-10T12:38:41.268153Z",
     "shell.execute_reply": "2022-06-10T12:38:41.267131Z"
    },
    "papermill": {
     "duration": 0.05235,
     "end_time": "2022-06-10T12:38:41.270208",
     "exception": false,
     "start_time": "2022-06-10T12:38:41.217858",
     "status": "completed"
    },
    "tags": []
   },
   "outputs": [
    {
     "data": {
      "text/html": [
       "<div>\n",
       "<style scoped>\n",
       "    .dataframe tbody tr th:only-of-type {\n",
       "        vertical-align: middle;\n",
       "    }\n",
       "\n",
       "    .dataframe tbody tr th {\n",
       "        vertical-align: top;\n",
       "    }\n",
       "\n",
       "    .dataframe thead th {\n",
       "        text-align: right;\n",
       "    }\n",
       "</style>\n",
       "<table border=\"1\" class=\"dataframe\">\n",
       "  <thead>\n",
       "    <tr style=\"text-align: right;\">\n",
       "      <th></th>\n",
       "      <th>Item_Identifier</th>\n",
       "      <th>Item_Weight</th>\n",
       "      <th>Item_Fat_Content</th>\n",
       "      <th>Item_Visibility</th>\n",
       "      <th>Item_Type</th>\n",
       "      <th>Item_MRP</th>\n",
       "      <th>Outlet_Identifier</th>\n",
       "      <th>Outlet_Establishment_Year</th>\n",
       "      <th>Outlet_Size</th>\n",
       "      <th>Outlet_Location_Type</th>\n",
       "      <th>Outlet_Type</th>\n",
       "      <th>Item_Outlet_Sales</th>\n",
       "      <th>Outlet_Age</th>\n",
       "    </tr>\n",
       "  </thead>\n",
       "  <tbody>\n",
       "    <tr>\n",
       "      <th>0</th>\n",
       "      <td>FDA15</td>\n",
       "      <td>9.30</td>\n",
       "      <td>0</td>\n",
       "      <td>0.016047</td>\n",
       "      <td>Dairy</td>\n",
       "      <td>249.8092</td>\n",
       "      <td>OUT049</td>\n",
       "      <td>1999</td>\n",
       "      <td>1</td>\n",
       "      <td>0</td>\n",
       "      <td>Supermarket Type1</td>\n",
       "      <td>3735.1380</td>\n",
       "      <td>21</td>\n",
       "    </tr>\n",
       "    <tr>\n",
       "      <th>1</th>\n",
       "      <td>DRC01</td>\n",
       "      <td>5.92</td>\n",
       "      <td>1</td>\n",
       "      <td>0.019278</td>\n",
       "      <td>Soft Drinks</td>\n",
       "      <td>48.2692</td>\n",
       "      <td>OUT018</td>\n",
       "      <td>2009</td>\n",
       "      <td>1</td>\n",
       "      <td>2</td>\n",
       "      <td>Supermarket Type2</td>\n",
       "      <td>443.4228</td>\n",
       "      <td>11</td>\n",
       "    </tr>\n",
       "    <tr>\n",
       "      <th>2</th>\n",
       "      <td>FDN15</td>\n",
       "      <td>17.50</td>\n",
       "      <td>0</td>\n",
       "      <td>0.016760</td>\n",
       "      <td>Meat</td>\n",
       "      <td>141.6180</td>\n",
       "      <td>OUT049</td>\n",
       "      <td>1999</td>\n",
       "      <td>1</td>\n",
       "      <td>0</td>\n",
       "      <td>Supermarket Type1</td>\n",
       "      <td>2097.2700</td>\n",
       "      <td>21</td>\n",
       "    </tr>\n",
       "    <tr>\n",
       "      <th>3</th>\n",
       "      <td>FDX07</td>\n",
       "      <td>19.20</td>\n",
       "      <td>1</td>\n",
       "      <td>0.000000</td>\n",
       "      <td>Fruits and Vegetables</td>\n",
       "      <td>182.0950</td>\n",
       "      <td>OUT010</td>\n",
       "      <td>1998</td>\n",
       "      <td>1</td>\n",
       "      <td>2</td>\n",
       "      <td>Grocery Store</td>\n",
       "      <td>732.3800</td>\n",
       "      <td>22</td>\n",
       "    </tr>\n",
       "    <tr>\n",
       "      <th>4</th>\n",
       "      <td>NCD19</td>\n",
       "      <td>8.93</td>\n",
       "      <td>0</td>\n",
       "      <td>0.000000</td>\n",
       "      <td>Household</td>\n",
       "      <td>53.8614</td>\n",
       "      <td>OUT013</td>\n",
       "      <td>1987</td>\n",
       "      <td>0</td>\n",
       "      <td>2</td>\n",
       "      <td>Supermarket Type1</td>\n",
       "      <td>994.7052</td>\n",
       "      <td>33</td>\n",
       "    </tr>\n",
       "  </tbody>\n",
       "</table>\n",
       "</div>"
      ],
      "text/plain": [
       "  Item_Identifier  Item_Weight  Item_Fat_Content  Item_Visibility  \\\n",
       "0           FDA15         9.30                 0         0.016047   \n",
       "1           DRC01         5.92                 1         0.019278   \n",
       "2           FDN15        17.50                 0         0.016760   \n",
       "3           FDX07        19.20                 1         0.000000   \n",
       "4           NCD19         8.93                 0         0.000000   \n",
       "\n",
       "               Item_Type  Item_MRP Outlet_Identifier  \\\n",
       "0                  Dairy  249.8092            OUT049   \n",
       "1            Soft Drinks   48.2692            OUT018   \n",
       "2                   Meat  141.6180            OUT049   \n",
       "3  Fruits and Vegetables  182.0950            OUT010   \n",
       "4              Household   53.8614            OUT013   \n",
       "\n",
       "   Outlet_Establishment_Year  Outlet_Size  Outlet_Location_Type  \\\n",
       "0                       1999            1                     0   \n",
       "1                       2009            1                     2   \n",
       "2                       1999            1                     0   \n",
       "3                       1998            1                     2   \n",
       "4                       1987            0                     2   \n",
       "\n",
       "         Outlet_Type  Item_Outlet_Sales  Outlet_Age  \n",
       "0  Supermarket Type1          3735.1380          21  \n",
       "1  Supermarket Type2           443.4228          11  \n",
       "2  Supermarket Type1          2097.2700          21  \n",
       "3      Grocery Store           732.3800          22  \n",
       "4  Supermarket Type1           994.7052          33  "
      ]
     },
     "execution_count": 36,
     "metadata": {},
     "output_type": "execute_result"
    }
   ],
   "source": [
    "#lable encoding\n",
    "\n",
    "le = LabelEncoder()\n",
    "Label = ['Item_Fat_Content','Outlet_Size','Outlet_Location_Type']\n",
    "\n",
    "for i in Label:\n",
    "    tr_df[i] = le.fit_transform(tr_df[i])\n",
    "    te_df[i] = le.fit_transform(te_df[i])\n",
    "    \n",
    "tr_df.head()"
   ]
  },
  {
   "cell_type": "code",
   "execution_count": 37,
   "id": "1a0625cb",
   "metadata": {
    "execution": {
     "iopub.execute_input": "2022-06-10T12:38:41.312748Z",
     "iopub.status.busy": "2022-06-10T12:38:41.312064Z",
     "iopub.status.idle": "2022-06-10T12:38:41.338843Z",
     "shell.execute_reply": "2022-06-10T12:38:41.337773Z"
    },
    "papermill": {
     "duration": 0.050946,
     "end_time": "2022-06-10T12:38:41.341196",
     "exception": false,
     "start_time": "2022-06-10T12:38:41.290250",
     "status": "completed"
    },
    "tags": []
   },
   "outputs": [],
   "source": [
    "#one hot encoding\n",
    "cols = ['Item_Type','Outlet_Type']\n",
    "# Apply one-hot encoder\n",
    "OH_encoder = OneHotEncoder(handle_unknown='ignore', sparse=False)\n",
    "tr_oh = pd.DataFrame(OH_encoder.fit_transform(tr_df[cols])).astype('int64')\n",
    "te_oh = pd.DataFrame(OH_encoder.fit_transform(te_df[cols])).astype('int64')\n",
    "\n",
    "\n",
    "#get feature columns\n",
    "tr_oh.columns = OH_encoder.get_feature_names(cols)\n",
    "te_oh.columns = OH_encoder.get_feature_names(cols)\n",
    "\n",
    "# One-hot encoding removed index; put it back\n",
    "tr_oh.index = tr_df.index\n",
    "te_oh.index = te_df.index\n",
    "\n",
    "# Add one-hot encoded columns to our main df new name: tr_fe, te_fe (means feature engeenired) \n",
    "tr_fe = pd.concat([tr_df, tr_oh], axis=1)\n",
    "te_fe = pd.concat([te_df, te_oh], axis=1)"
   ]
  },
  {
   "cell_type": "code",
   "execution_count": 38,
   "id": "5cb0b06b",
   "metadata": {
    "execution": {
     "iopub.execute_input": "2022-06-10T12:38:41.383170Z",
     "iopub.status.busy": "2022-06-10T12:38:41.382798Z",
     "iopub.status.idle": "2022-06-10T12:38:41.395274Z",
     "shell.execute_reply": "2022-06-10T12:38:41.394618Z"
    },
    "papermill": {
     "duration": 0.036259,
     "end_time": "2022-06-10T12:38:41.397434",
     "exception": false,
     "start_time": "2022-06-10T12:38:41.361175",
     "status": "completed"
    },
    "tags": []
   },
   "outputs": [],
   "source": [
    "# Dropping irrelevant columns\n",
    "\n",
    "tr_fe  = tr_fe.drop(['Item_Identifier','Outlet_Identifier','Outlet_Establishment_Year','Outlet_Type','Item_Type'],axis=1)\n",
    "te_fe = te_fe.drop(['Item_Identifier','Outlet_Identifier','Outlet_Establishment_Year','Outlet_Type','Item_Type'],axis=1)"
   ]
  },
  {
   "cell_type": "code",
   "execution_count": 39,
   "id": "75fa16b4",
   "metadata": {
    "execution": {
     "iopub.execute_input": "2022-06-10T12:38:41.440974Z",
     "iopub.status.busy": "2022-06-10T12:38:41.440500Z",
     "iopub.status.idle": "2022-06-10T12:38:41.461562Z",
     "shell.execute_reply": "2022-06-10T12:38:41.460606Z"
    },
    "papermill": {
     "duration": 0.045873,
     "end_time": "2022-06-10T12:38:41.463540",
     "exception": false,
     "start_time": "2022-06-10T12:38:41.417667",
     "status": "completed"
    },
    "tags": []
   },
   "outputs": [
    {
     "data": {
      "text/html": [
       "<div>\n",
       "<style scoped>\n",
       "    .dataframe tbody tr th:only-of-type {\n",
       "        vertical-align: middle;\n",
       "    }\n",
       "\n",
       "    .dataframe tbody tr th {\n",
       "        vertical-align: top;\n",
       "    }\n",
       "\n",
       "    .dataframe thead th {\n",
       "        text-align: right;\n",
       "    }\n",
       "</style>\n",
       "<table border=\"1\" class=\"dataframe\">\n",
       "  <thead>\n",
       "    <tr style=\"text-align: right;\">\n",
       "      <th></th>\n",
       "      <th>Item_Weight</th>\n",
       "      <th>Item_Fat_Content</th>\n",
       "      <th>Item_Visibility</th>\n",
       "      <th>Item_MRP</th>\n",
       "      <th>Outlet_Size</th>\n",
       "      <th>Outlet_Location_Type</th>\n",
       "      <th>Item_Outlet_Sales</th>\n",
       "      <th>Outlet_Age</th>\n",
       "      <th>Item_Type_Baking Goods</th>\n",
       "      <th>Item_Type_Breads</th>\n",
       "      <th>...</th>\n",
       "      <th>Item_Type_Meat</th>\n",
       "      <th>Item_Type_Others</th>\n",
       "      <th>Item_Type_Seafood</th>\n",
       "      <th>Item_Type_Snack Foods</th>\n",
       "      <th>Item_Type_Soft Drinks</th>\n",
       "      <th>Item_Type_Starchy Foods</th>\n",
       "      <th>Outlet_Type_Grocery Store</th>\n",
       "      <th>Outlet_Type_Supermarket Type1</th>\n",
       "      <th>Outlet_Type_Supermarket Type2</th>\n",
       "      <th>Outlet_Type_Supermarket Type3</th>\n",
       "    </tr>\n",
       "  </thead>\n",
       "  <tbody>\n",
       "    <tr>\n",
       "      <th>0</th>\n",
       "      <td>9.30</td>\n",
       "      <td>0</td>\n",
       "      <td>0.016047</td>\n",
       "      <td>249.8092</td>\n",
       "      <td>1</td>\n",
       "      <td>0</td>\n",
       "      <td>3735.1380</td>\n",
       "      <td>21</td>\n",
       "      <td>0</td>\n",
       "      <td>0</td>\n",
       "      <td>...</td>\n",
       "      <td>0</td>\n",
       "      <td>0</td>\n",
       "      <td>0</td>\n",
       "      <td>0</td>\n",
       "      <td>0</td>\n",
       "      <td>0</td>\n",
       "      <td>0</td>\n",
       "      <td>1</td>\n",
       "      <td>0</td>\n",
       "      <td>0</td>\n",
       "    </tr>\n",
       "    <tr>\n",
       "      <th>1</th>\n",
       "      <td>5.92</td>\n",
       "      <td>1</td>\n",
       "      <td>0.019278</td>\n",
       "      <td>48.2692</td>\n",
       "      <td>1</td>\n",
       "      <td>2</td>\n",
       "      <td>443.4228</td>\n",
       "      <td>11</td>\n",
       "      <td>0</td>\n",
       "      <td>0</td>\n",
       "      <td>...</td>\n",
       "      <td>0</td>\n",
       "      <td>0</td>\n",
       "      <td>0</td>\n",
       "      <td>0</td>\n",
       "      <td>1</td>\n",
       "      <td>0</td>\n",
       "      <td>0</td>\n",
       "      <td>0</td>\n",
       "      <td>1</td>\n",
       "      <td>0</td>\n",
       "    </tr>\n",
       "    <tr>\n",
       "      <th>2</th>\n",
       "      <td>17.50</td>\n",
       "      <td>0</td>\n",
       "      <td>0.016760</td>\n",
       "      <td>141.6180</td>\n",
       "      <td>1</td>\n",
       "      <td>0</td>\n",
       "      <td>2097.2700</td>\n",
       "      <td>21</td>\n",
       "      <td>0</td>\n",
       "      <td>0</td>\n",
       "      <td>...</td>\n",
       "      <td>1</td>\n",
       "      <td>0</td>\n",
       "      <td>0</td>\n",
       "      <td>0</td>\n",
       "      <td>0</td>\n",
       "      <td>0</td>\n",
       "      <td>0</td>\n",
       "      <td>1</td>\n",
       "      <td>0</td>\n",
       "      <td>0</td>\n",
       "    </tr>\n",
       "    <tr>\n",
       "      <th>3</th>\n",
       "      <td>19.20</td>\n",
       "      <td>1</td>\n",
       "      <td>0.000000</td>\n",
       "      <td>182.0950</td>\n",
       "      <td>1</td>\n",
       "      <td>2</td>\n",
       "      <td>732.3800</td>\n",
       "      <td>22</td>\n",
       "      <td>0</td>\n",
       "      <td>0</td>\n",
       "      <td>...</td>\n",
       "      <td>0</td>\n",
       "      <td>0</td>\n",
       "      <td>0</td>\n",
       "      <td>0</td>\n",
       "      <td>0</td>\n",
       "      <td>0</td>\n",
       "      <td>1</td>\n",
       "      <td>0</td>\n",
       "      <td>0</td>\n",
       "      <td>0</td>\n",
       "    </tr>\n",
       "    <tr>\n",
       "      <th>4</th>\n",
       "      <td>8.93</td>\n",
       "      <td>0</td>\n",
       "      <td>0.000000</td>\n",
       "      <td>53.8614</td>\n",
       "      <td>0</td>\n",
       "      <td>2</td>\n",
       "      <td>994.7052</td>\n",
       "      <td>33</td>\n",
       "      <td>0</td>\n",
       "      <td>0</td>\n",
       "      <td>...</td>\n",
       "      <td>0</td>\n",
       "      <td>0</td>\n",
       "      <td>0</td>\n",
       "      <td>0</td>\n",
       "      <td>0</td>\n",
       "      <td>0</td>\n",
       "      <td>0</td>\n",
       "      <td>1</td>\n",
       "      <td>0</td>\n",
       "      <td>0</td>\n",
       "    </tr>\n",
       "  </tbody>\n",
       "</table>\n",
       "<p>5 rows × 28 columns</p>\n",
       "</div>"
      ],
      "text/plain": [
       "   Item_Weight  Item_Fat_Content  Item_Visibility  Item_MRP  Outlet_Size  \\\n",
       "0         9.30                 0         0.016047  249.8092            1   \n",
       "1         5.92                 1         0.019278   48.2692            1   \n",
       "2        17.50                 0         0.016760  141.6180            1   \n",
       "3        19.20                 1         0.000000  182.0950            1   \n",
       "4         8.93                 0         0.000000   53.8614            0   \n",
       "\n",
       "   Outlet_Location_Type  Item_Outlet_Sales  Outlet_Age  \\\n",
       "0                     0          3735.1380          21   \n",
       "1                     2           443.4228          11   \n",
       "2                     0          2097.2700          21   \n",
       "3                     2           732.3800          22   \n",
       "4                     2           994.7052          33   \n",
       "\n",
       "   Item_Type_Baking Goods  Item_Type_Breads  ...  Item_Type_Meat  \\\n",
       "0                       0                 0  ...               0   \n",
       "1                       0                 0  ...               0   \n",
       "2                       0                 0  ...               1   \n",
       "3                       0                 0  ...               0   \n",
       "4                       0                 0  ...               0   \n",
       "\n",
       "   Item_Type_Others  Item_Type_Seafood  Item_Type_Snack Foods  \\\n",
       "0                 0                  0                      0   \n",
       "1                 0                  0                      0   \n",
       "2                 0                  0                      0   \n",
       "3                 0                  0                      0   \n",
       "4                 0                  0                      0   \n",
       "\n",
       "   Item_Type_Soft Drinks  Item_Type_Starchy Foods  Outlet_Type_Grocery Store  \\\n",
       "0                      0                        0                          0   \n",
       "1                      1                        0                          0   \n",
       "2                      0                        0                          0   \n",
       "3                      0                        0                          1   \n",
       "4                      0                        0                          0   \n",
       "\n",
       "   Outlet_Type_Supermarket Type1  Outlet_Type_Supermarket Type2  \\\n",
       "0                              1                              0   \n",
       "1                              0                              1   \n",
       "2                              1                              0   \n",
       "3                              0                              0   \n",
       "4                              1                              0   \n",
       "\n",
       "   Outlet_Type_Supermarket Type3  \n",
       "0                              0  \n",
       "1                              0  \n",
       "2                              0  \n",
       "3                              0  \n",
       "4                              0  \n",
       "\n",
       "[5 rows x 28 columns]"
      ]
     },
     "execution_count": 39,
     "metadata": {},
     "output_type": "execute_result"
    }
   ],
   "source": [
    "tr_fe.head()"
   ]
  },
  {
   "cell_type": "markdown",
   "id": "c7cda0e1",
   "metadata": {
    "papermill": {
     "duration": 0.020247,
     "end_time": "2022-06-10T12:38:41.504467",
     "exception": false,
     "start_time": "2022-06-10T12:38:41.484220",
     "status": "completed"
    },
    "tags": []
   },
   "source": [
    "# MODELLING\n",
    "First of all we will divide our dataset into two variables X as the features we defined earlier and y as the Item_Outlet_Sales the target value we want to predict.\n",
    "\n",
    "# Models we will use:\n",
    "\n",
    "* Linear Regression\n",
    "* Lasso Regressor\n",
    "* Random Forest Regressor\n",
    "* XGBoost"
   ]
  },
  {
   "cell_type": "code",
   "execution_count": 40,
   "id": "39d2599b",
   "metadata": {
    "execution": {
     "iopub.execute_input": "2022-06-10T12:38:41.547251Z",
     "iopub.status.busy": "2022-06-10T12:38:41.546457Z",
     "iopub.status.idle": "2022-06-10T12:38:41.557430Z",
     "shell.execute_reply": "2022-06-10T12:38:41.556662Z"
    },
    "papermill": {
     "duration": 0.034887,
     "end_time": "2022-06-10T12:38:41.559682",
     "exception": false,
     "start_time": "2022-06-10T12:38:41.524795",
     "status": "completed"
    },
    "tags": []
   },
   "outputs": [],
   "source": [
    "y = tr_fe['Item_Outlet_Sales']\n",
    "X = tr_fe.drop('Item_Outlet_Sales', axis = 1)\n",
    "X_train, X_test, y_train, y_test = train_test_split(X, y, test_size = 0.8, random_state = 0)"
   ]
  },
  {
   "cell_type": "code",
   "execution_count": 41,
   "id": "84f2440a",
   "metadata": {
    "execution": {
     "iopub.execute_input": "2022-06-10T12:38:41.608583Z",
     "iopub.status.busy": "2022-06-10T12:38:41.607838Z",
     "iopub.status.idle": "2022-06-10T12:38:41.613967Z",
     "shell.execute_reply": "2022-06-10T12:38:41.613132Z"
    },
    "papermill": {
     "duration": 0.03506,
     "end_time": "2022-06-10T12:38:41.616326",
     "exception": false,
     "start_time": "2022-06-10T12:38:41.581266",
     "status": "completed"
    },
    "tags": []
   },
   "outputs": [],
   "source": [
    "def cross_val(model_name,model,X,y,cv):\n",
    "    \n",
    "    scores = CVS(model, X, y, cv=cv)\n",
    "    print(f'{model_name} Scores:')\n",
    "    for i in scores:\n",
    "        print(round(i,2))\n",
    "    print(f'Average {model_name} score: {round(scores.mean(),4)}')"
   ]
  },
  {
   "cell_type": "markdown",
   "id": "9e2d9688",
   "metadata": {
    "papermill": {
     "duration": 0.026188,
     "end_time": "2022-06-10T12:38:41.674373",
     "exception": false,
     "start_time": "2022-06-10T12:38:41.648185",
     "status": "completed"
    },
    "tags": []
   },
   "source": [
    "# Linear Regression"
   ]
  },
  {
   "cell_type": "code",
   "execution_count": 42,
   "id": "4039242e",
   "metadata": {
    "execution": {
     "iopub.execute_input": "2022-06-10T12:38:41.718704Z",
     "iopub.status.busy": "2022-06-10T12:38:41.718263Z",
     "iopub.status.idle": "2022-06-10T12:38:42.257935Z",
     "shell.execute_reply": "2022-06-10T12:38:42.257007Z"
    },
    "papermill": {
     "duration": 0.565032,
     "end_time": "2022-06-10T12:38:42.260855",
     "exception": false,
     "start_time": "2022-06-10T12:38:41.695823",
     "status": "completed"
    },
    "tags": []
   },
   "outputs": [
    {
     "name": "stdout",
     "output_type": "stream",
     "text": [
      " Mean Absolute Error: 839.83\n",
      "\n",
      " Mean Squared Error: 1289106.9\n",
      "\n",
      " R^2 Score: 0.5581\n",
      "\n",
      "LinearRegression(normalize=True) Scores:\n",
      "0.57\n",
      "0.55\n",
      "0.55\n",
      "0.56\n",
      "0.56\n",
      "Average LinearRegression(normalize=True) score: 0.558\n"
     ]
    }
   ],
   "source": [
    "#model\n",
    "LR = LinearRegression(normalize=True)\n",
    "\n",
    "#fit\n",
    "LR.fit(X_train, y_train)\n",
    "\n",
    "#predict\n",
    "y_predict = LR.predict(X_test)\n",
    "\n",
    "#score variables\n",
    "LR_MAE = round(MAE(y_test, y_predict),2)\n",
    "LR_MSE = round(MSE(y_test, y_predict),2)\n",
    "LR_R_2 = round(R2(y_test, y_predict),4)\n",
    "LR_CS  = round(CVS(LR, X, y, cv=5).mean(),4)\n",
    "\n",
    "print(f\" Mean Absolute Error: {LR_MAE}\\n\")\n",
    "print(f\" Mean Squared Error: {LR_MSE}\\n\")\n",
    "print(f\" R^2 Score: {LR_R_2}\\n\")\n",
    "\n",
    "cross_val(LR,LinearRegression(),X,y,5)"
   ]
  },
  {
   "cell_type": "code",
   "execution_count": 43,
   "id": "2a30dce7",
   "metadata": {
    "execution": {
     "iopub.execute_input": "2022-06-10T12:38:42.369624Z",
     "iopub.status.busy": "2022-06-10T12:38:42.369105Z",
     "iopub.status.idle": "2022-06-10T12:38:42.394159Z",
     "shell.execute_reply": "2022-06-10T12:38:42.393413Z"
    },
    "papermill": {
     "duration": 0.096868,
     "end_time": "2022-06-10T12:38:42.397011",
     "exception": false,
     "start_time": "2022-06-10T12:38:42.300143",
     "status": "completed"
    },
    "tags": []
   },
   "outputs": [],
   "source": [
    "Linear_Regression=pd.DataFrame({'y_test':y_test,'prediction':y_predict})\n",
    "Linear_Regression.to_csv(\"Linear Regression.csv\")     "
   ]
  },
  {
   "cell_type": "markdown",
   "id": "53db2dc3",
   "metadata": {
    "papermill": {
     "duration": 0.020943,
     "end_time": "2022-06-10T12:38:42.444088",
     "exception": false,
     "start_time": "2022-06-10T12:38:42.423145",
     "status": "completed"
    },
    "tags": []
   },
   "source": [
    "# Lasso Regressor (Regularized Linear Regression)\n",
    "In statistics and machine learning, lasso (least absolute shrinkage and selection operator; also Lasso or LASSO) is a regression analysis method that performs both variable selection and regularization in order to enhance the prediction accuracy and interpretability of the statistical model it produces."
   ]
  },
  {
   "cell_type": "code",
   "execution_count": 44,
   "id": "84e49d30",
   "metadata": {
    "execution": {
     "iopub.execute_input": "2022-06-10T12:38:42.488674Z",
     "iopub.status.busy": "2022-06-10T12:38:42.488238Z",
     "iopub.status.idle": "2022-06-10T12:38:45.109747Z",
     "shell.execute_reply": "2022-06-10T12:38:45.106494Z"
    },
    "papermill": {
     "duration": 2.647368,
     "end_time": "2022-06-10T12:38:45.112843",
     "exception": false,
     "start_time": "2022-06-10T12:38:42.465475",
     "status": "completed"
    },
    "tags": []
   },
   "outputs": [
    {
     "name": "stdout",
     "output_type": "stream",
     "text": [
      " Mean Absolute Error: 838.07\n",
      "\n",
      " Mean Squared Error: 1285554.86\n",
      "\n",
      " R^2 Score: 0.5594\n",
      "\n",
      "Lasso(alpha=0.05) Scores:\n",
      "0.57\n",
      "0.55\n",
      "0.55\n",
      "0.56\n",
      "0.56\n",
      "Average Lasso(alpha=0.05) score: 0.5581\n"
     ]
    }
   ],
   "source": [
    "#model\n",
    "LS = Lasso(alpha = 0.05)\n",
    "#fit\n",
    "LS.fit(X_train,y_train)\n",
    "\n",
    "#predict\n",
    "y_predict = LS.predict(X_test)\n",
    "\n",
    "#score variables\n",
    "LS_MAE = round(MAE(y_test, y_predict),2)\n",
    "LS_MSE = round(MSE(y_test, y_predict),2)\n",
    "LS_R_2 = round(R2(y_test, y_predict),4)\n",
    "LS_CS  = round(CVS(LS, X, y, cv=5).mean(),4)\n",
    "\n",
    "print(f\" Mean Absolute Error: {LS_MAE}\\n\")\n",
    "print(f\" Mean Squared Error: {LS_MSE}\\n\")\n",
    "print(f\" R^2 Score: {LS_R_2}\\n\")\n",
    "cross_val(LS,Lasso(alpha = 0.05),X,y,5)"
   ]
  },
  {
   "cell_type": "code",
   "execution_count": 45,
   "id": "af891ad5",
   "metadata": {
    "execution": {
     "iopub.execute_input": "2022-06-10T12:38:45.231857Z",
     "iopub.status.busy": "2022-06-10T12:38:45.231467Z",
     "iopub.status.idle": "2022-06-10T12:38:45.258423Z",
     "shell.execute_reply": "2022-06-10T12:38:45.257706Z"
    },
    "papermill": {
     "duration": 0.07606,
     "end_time": "2022-06-10T12:38:45.260467",
     "exception": false,
     "start_time": "2022-06-10T12:38:45.184407",
     "status": "completed"
    },
    "tags": []
   },
   "outputs": [],
   "source": [
    "Lasso_Regressor=pd.DataFrame({'y_test':y_test,'prediction':y_predict})\n",
    "Lasso_Regressor.to_csv(\"Lasso Regressor.csv\")     "
   ]
  },
  {
   "cell_type": "markdown",
   "id": "e2a66773",
   "metadata": {
    "papermill": {
     "duration": 0.020378,
     "end_time": "2022-06-10T12:38:45.301390",
     "exception": false,
     "start_time": "2022-06-10T12:38:45.281012",
     "status": "completed"
    },
    "tags": []
   },
   "source": [
    "# Random Forest Regressor\n",
    "Random forest is a Supervised Learning algorithm which uses ensemble learning method for classification and regression. It operates by constructing a multitude of decision trees at training time and outputting the class that is the mode of the classes (classification) or mean prediction (regression) of the individual trees."
   ]
  },
  {
   "cell_type": "code",
   "execution_count": 46,
   "id": "40b5c957",
   "metadata": {
    "execution": {
     "iopub.execute_input": "2022-06-10T12:38:45.344595Z",
     "iopub.status.busy": "2022-06-10T12:38:45.344171Z",
     "iopub.status.idle": "2022-06-10T12:39:09.415632Z",
     "shell.execute_reply": "2022-06-10T12:39:09.414610Z"
    },
    "papermill": {
     "duration": 24.096457,
     "end_time": "2022-06-10T12:39:09.418569",
     "exception": false,
     "start_time": "2022-06-10T12:38:45.322112",
     "status": "completed"
    },
    "tags": []
   },
   "outputs": [
    {
     "name": "stdout",
     "output_type": "stream",
     "text": [
      " Mean Absolute Error: 1030.27\n",
      "\n",
      " Mean Squared Error: 1964025.66\n",
      "\n",
      " R^2 Score: 0.3268\n",
      "\n",
      "RandomForestRegressor(max_depth=5, min_samples_leaf=100, n_estimators=200,\n",
      "                      n_jobs=4, random_state=101) Scores:\n",
      "0.56\n",
      "0.53\n",
      "0.52\n",
      "0.56\n",
      "0.57\n",
      "Average RandomForestRegressor(max_depth=5, min_samples_leaf=100, n_estimators=200,\n",
      "                      n_jobs=4, random_state=101) score: 0.5474\n"
     ]
    }
   ],
   "source": [
    "#model\n",
    "RFR= RandomForestRegressor(n_estimators=200,max_depth=5, min_samples_leaf=100,n_jobs=4,random_state=101)\n",
    "#fit\n",
    "RFR.fit(X_train, y_train)\n",
    "#predict\n",
    "y_predict = RFR.predict(X_test)\n",
    "\n",
    "#score variables\n",
    "RFR_MAE = round(MAE(y_test, y_predict),2)\n",
    "RFR_MSE = round(MSE(y_test, y_predict),2)\n",
    "RFR_R_2 = round(R2(y_test, y_predict),4)\n",
    "RFR_CS  = round(CVS(RFR, X, y, cv=5).mean(),4)\n",
    "\n",
    "\n",
    "print(f\" Mean Absolute Error: {RFR_MAE}\\n\")\n",
    "print(f\" Mean Squared Error: {RFR_MSE}\\n\")\n",
    "print(f\" R^2 Score: {RFR_R_2}\\n\")\n",
    "\n",
    "cross_val(RFR,RandomForestRegressor(),X,y,5)"
   ]
  },
  {
   "cell_type": "code",
   "execution_count": 47,
   "id": "265c9155",
   "metadata": {
    "execution": {
     "iopub.execute_input": "2022-06-10T12:39:09.465483Z",
     "iopub.status.busy": "2022-06-10T12:39:09.464787Z",
     "iopub.status.idle": "2022-06-10T12:39:09.493924Z",
     "shell.execute_reply": "2022-06-10T12:39:09.492950Z"
    },
    "papermill": {
     "duration": 0.055175,
     "end_time": "2022-06-10T12:39:09.496396",
     "exception": false,
     "start_time": "2022-06-10T12:39:09.441221",
     "status": "completed"
    },
    "tags": []
   },
   "outputs": [],
   "source": [
    "Random_Forest_Regressor=pd.DataFrame({'y_test':y_test,'prediction':y_predict})\n",
    "Random_Forest_Regressor.to_csv(\"Random Forest Regressor.csv\")     "
   ]
  },
  {
   "cell_type": "markdown",
   "id": "0234e2f0",
   "metadata": {
    "papermill": {
     "duration": 0.022484,
     "end_time": "2022-06-10T12:39:09.540208",
     "exception": false,
     "start_time": "2022-06-10T12:39:09.517724",
     "status": "completed"
    },
    "tags": []
   },
   "source": [
    "# XGBRegressor"
   ]
  },
  {
   "cell_type": "code",
   "execution_count": 48,
   "id": "23539e90",
   "metadata": {
    "execution": {
     "iopub.execute_input": "2022-06-10T12:39:09.587460Z",
     "iopub.status.busy": "2022-06-10T12:39:09.587042Z",
     "iopub.status.idle": "2022-06-10T12:39:19.796302Z",
     "shell.execute_reply": "2022-06-10T12:39:19.794956Z"
    },
    "papermill": {
     "duration": 10.235693,
     "end_time": "2022-06-10T12:39:19.799284",
     "exception": false,
     "start_time": "2022-06-10T12:39:09.563591",
     "status": "completed"
    },
    "tags": []
   },
   "outputs": [
    {
     "name": "stdout",
     "output_type": "stream",
     "text": [
      " Mean Absolute Error: 873.96\n",
      "\n",
      " Mean Squared Error: 1562190.65\n",
      "\n",
      " R^2 Score: 0.4645\n",
      "\n",
      "XGBRegressor(base_score=0.5, booster='gbtree', callbacks=None,\n",
      "             colsample_bylevel=1, colsample_bynode=1, colsample_bytree=1,\n",
      "             early_stopping_rounds=None, enable_categorical=False,\n",
      "             eval_metric=None, gamma=0, gpu_id=-1, grow_policy='depthwise',\n",
      "             importance_type=None, interaction_constraints='',\n",
      "             learning_rate=0.300000012, max_bin=256, max_cat_to_onehot=4,\n",
      "             max_delta_step=0, max_depth=6, max_leaves=0, min_child_weight=1,\n",
      "             missing=nan, monotone_constraints='()', n_estimators=100, n_jobs=0,\n",
      "             num_parallel_tree=1, predictor='auto', random_state=0, reg_alpha=0,\n",
      "             reg_lambda=1, ...) Scores:\n",
      "0.54\n",
      "0.51\n",
      "0.49\n",
      "0.52\n",
      "0.55\n",
      "Average XGBRegressor(base_score=0.5, booster='gbtree', callbacks=None,\n",
      "             colsample_bylevel=1, colsample_bynode=1, colsample_bytree=1,\n",
      "             early_stopping_rounds=None, enable_categorical=False,\n",
      "             eval_metric=None, gamma=0, gpu_id=-1, grow_policy='depthwise',\n",
      "             importance_type=None, interaction_constraints='',\n",
      "             learning_rate=0.300000012, max_bin=256, max_cat_to_onehot=4,\n",
      "             max_delta_step=0, max_depth=6, max_leaves=0, min_child_weight=1,\n",
      "             missing=nan, monotone_constraints='()', n_estimators=100, n_jobs=0,\n",
      "             num_parallel_tree=1, predictor='auto', random_state=0, reg_alpha=0,\n",
      "             reg_lambda=1, ...) score: 0.523\n"
     ]
    }
   ],
   "source": [
    "#model\n",
    "xgb = XGBRegressor()\n",
    "#fit\n",
    "xgb.fit(X_train, y_train)\n",
    "#predict\n",
    "y_predict = xgb.predict(X_test)\n",
    "\n",
    "#score variables\n",
    "xgb_MAE = round(MAE(y_test, y_predict),2)\n",
    "xgb_MSE = round(MSE(y_test, y_predict),2)\n",
    "xgb_R_2 = round(R2(y_test, y_predict),4)\n",
    "xgb_CS  = round(CVS(xgb, X, y, cv=5).mean(),4)\n",
    "\n",
    "\n",
    "print(f\" Mean Absolute Error: {xgb_MAE}\\n\")\n",
    "print(f\" Mean Squared Error: {xgb_MSE}\\n\")\n",
    "print(f\" R^2 Score: {xgb_R_2}\\n\")\n",
    "\n",
    "cross_val(xgb, XGBRegressor(),X,y,5)"
   ]
  },
  {
   "cell_type": "code",
   "execution_count": 49,
   "id": "13cbc818",
   "metadata": {
    "execution": {
     "iopub.execute_input": "2022-06-10T12:39:19.844447Z",
     "iopub.status.busy": "2022-06-10T12:39:19.844048Z",
     "iopub.status.idle": "2022-06-10T12:39:19.861259Z",
     "shell.execute_reply": "2022-06-10T12:39:19.860112Z"
    },
    "papermill": {
     "duration": 0.041875,
     "end_time": "2022-06-10T12:39:19.863578",
     "exception": false,
     "start_time": "2022-06-10T12:39:19.821703",
     "status": "completed"
    },
    "tags": []
   },
   "outputs": [
    {
     "data": {
      "text/html": [
       "<div>\n",
       "<style scoped>\n",
       "    .dataframe tbody tr th:only-of-type {\n",
       "        vertical-align: middle;\n",
       "    }\n",
       "\n",
       "    .dataframe tbody tr th {\n",
       "        vertical-align: top;\n",
       "    }\n",
       "\n",
       "    .dataframe thead th {\n",
       "        text-align: right;\n",
       "    }\n",
       "</style>\n",
       "<table border=\"1\" class=\"dataframe\">\n",
       "  <thead>\n",
       "    <tr style=\"text-align: right;\">\n",
       "      <th></th>\n",
       "      <th>models</th>\n",
       "      <th>MAE</th>\n",
       "      <th>MSE</th>\n",
       "      <th>R^2</th>\n",
       "      <th>Cross Validation Score</th>\n",
       "    </tr>\n",
       "  </thead>\n",
       "  <tbody>\n",
       "    <tr>\n",
       "      <th>2</th>\n",
       "      <td>Lasso Regressor</td>\n",
       "      <td>838.07</td>\n",
       "      <td>1285554.86</td>\n",
       "      <td>0.5594</td>\n",
       "      <td>0.5581</td>\n",
       "    </tr>\n",
       "    <tr>\n",
       "      <th>0</th>\n",
       "      <td>Linear Regression</td>\n",
       "      <td>839.83</td>\n",
       "      <td>1289106.90</td>\n",
       "      <td>0.5581</td>\n",
       "      <td>0.5581</td>\n",
       "    </tr>\n",
       "    <tr>\n",
       "      <th>3</th>\n",
       "      <td>XGBRegressor</td>\n",
       "      <td>873.96</td>\n",
       "      <td>1562190.65</td>\n",
       "      <td>0.4645</td>\n",
       "      <td>0.5230</td>\n",
       "    </tr>\n",
       "    <tr>\n",
       "      <th>1</th>\n",
       "      <td>Random Forest Regressor</td>\n",
       "      <td>1030.27</td>\n",
       "      <td>1964025.66</td>\n",
       "      <td>0.3268</td>\n",
       "      <td>0.5920</td>\n",
       "    </tr>\n",
       "  </tbody>\n",
       "</table>\n",
       "</div>"
      ],
      "text/plain": [
       "                    models      MAE         MSE     R^2  \\\n",
       "2          Lasso Regressor   838.07  1285554.86  0.5594   \n",
       "0        Linear Regression   839.83  1289106.90  0.5581   \n",
       "3             XGBRegressor   873.96  1562190.65  0.4645   \n",
       "1  Random Forest Regressor  1030.27  1964025.66  0.3268   \n",
       "\n",
       "   Cross Validation Score  \n",
       "2                  0.5581  \n",
       "0                  0.5581  \n",
       "3                  0.5230  \n",
       "1                  0.5920  "
      ]
     },
     "execution_count": 49,
     "metadata": {},
     "output_type": "execute_result"
    }
   ],
   "source": [
    "MAE= [LR_MAE,RFR_MAE,LS_MAE,xgb_MAE]\n",
    "MSE= [LR_MSE,RFR_MSE,LS_MSE,xgb_MSE]\n",
    "R_2= [LR_R_2,RFR_R_2,LS_R_2,xgb_R_2]\n",
    "Cross_score= [LR_CS,RFR_CS,LS_CS,xgb_CS]\n",
    "\n",
    "Models = pd.DataFrame({\n",
    "    'models': [\"Linear Regression\",\"Random Forest Regressor\",\"Lasso Regressor\", \"XGBRegressor\"],\n",
    "    'MAE': MAE, 'MSE': MSE, 'R^2': R_2, 'Cross Validation Score': Cross_score})\n",
    "Models.sort_values(by = 'MAE', ascending = True)"
   ]
  }
 ],
 "metadata": {
  "kernelspec": {
   "display_name": "Python 3",
   "language": "python",
   "name": "python3"
  },
  "language_info": {
   "codemirror_mode": {
    "name": "ipython",
    "version": 3
   },
   "file_extension": ".py",
   "mimetype": "text/x-python",
   "name": "python",
   "nbconvert_exporter": "python",
   "pygments_lexer": "ipython3",
   "version": "3.7.12"
  },
  "papermill": {
   "default_parameters": {},
   "duration": 59.251777,
   "end_time": "2022-06-10T12:39:22.507320",
   "environment_variables": {},
   "exception": null,
   "input_path": "__notebook__.ipynb",
   "output_path": "__notebook__.ipynb",
   "parameters": {},
   "start_time": "2022-06-10T12:38:23.255543",
   "version": "2.3.4"
  }
 },
 "nbformat": 4,
 "nbformat_minor": 5
}
